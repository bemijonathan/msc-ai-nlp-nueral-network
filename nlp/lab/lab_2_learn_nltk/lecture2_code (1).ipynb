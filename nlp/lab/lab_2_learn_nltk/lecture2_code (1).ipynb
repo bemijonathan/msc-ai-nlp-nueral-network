{
  "cells": [
    {
      "cell_type": "markdown",
      "metadata": {
        "id": "-Wj6vdO4_YSP"
      },
      "source": [
        "Need to run this to allow multiple ouputs\n"
      ]
    },
    {
      "cell_type": "code",
      "execution_count": 1,
      "metadata": {
        "id": "OkS0NOmK_YST"
      },
      "outputs": [],
      "source": [
        "from IPython.core.interactiveshell import InteractiveShell\n",
        "InteractiveShell.ast_node_interactivity = \"all\""
      ]
    },
    {
      "cell_type": "markdown",
      "metadata": {
        "id": "DLvuB7Wy_YSf"
      },
      "source": [
        "### Using a Tagger\n"
      ]
    },
    {
      "cell_type": "code",
      "execution_count": null,
      "metadata": {
        "colab": {
          "base_uri": "https://localhost:8080/"
        },
        "id": "UTtIuZgg_YSh",
        "outputId": "4a625c5d-d890-4478-e8a2-9375a551b5d9"
      },
      "outputs": [],
      "source": [
        "import nltk\n",
        "nltk.download('punkt')\n",
        "nltk.download('averaged_perceptron_tagger')\n",
        "nltk.download('tagsets')\n",
        "\n",
        "# Homonyms\n",
        "text = nltk.word_tokenize(\n",
        "    \"They refuse to permit us to obtain the refuse permit\")\n",
        "nltk.pos_tag(text)\n",
        "nltk.help.upenn_tagset('VBP')\n",
        "nltk.help.upenn_tagset('NN')"
      ]
    },
    {
      "cell_type": "markdown",
      "metadata": {
        "id": "c6_4YMkVyNDe"
      },
      "source": [
        "**Refuse** and **Permit** are verbs and nouns\n"
      ]
    },
    {
      "cell_type": "markdown",
      "metadata": {
        "id": "5AiLWx3G_YSt"
      },
      "source": [
        "### Tagged Corpora\n"
      ]
    },
    {
      "cell_type": "markdown",
      "metadata": {
        "id": "sKxvC9u0_YSv"
      },
      "source": [
        "Complete vs simplyfied (universal) tagging\n"
      ]
    },
    {
      "cell_type": "code",
      "execution_count": 1,
      "metadata": {
        "colab": {
          "base_uri": "https://localhost:8080/"
        },
        "id": "N4RdQQRT_YSw",
        "outputId": "426ecff6-140a-42bb-fc1f-d41d5514fa05"
      },
      "outputs": [
        {
          "name": "stdout",
          "output_type": "stream",
          "text": [
            "[('The', 'AT'), ('Fulton', 'NP-TL'), ...]\n"
          ]
        },
        {
          "name": "stderr",
          "output_type": "stream",
          "text": [
            "[nltk_data] Downloading package brown to /Users/joe_codes/nltk_data...\n",
            "[nltk_data]   Package brown is already up-to-date!\n",
            "[nltk_data] Downloading package universal_tagset to\n",
            "[nltk_data]     /Users/joe_codes/nltk_data...\n",
            "[nltk_data]   Package universal_tagset is already up-to-date!\n"
          ]
        },
        {
          "data": {
            "text/plain": [
              "[('The', 'DET'), ('Fulton', 'NOUN'), ...]"
            ]
          },
          "execution_count": 1,
          "metadata": {},
          "output_type": "execute_result"
        }
      ],
      "source": [
        "import nltk\n",
        "nltk.download('brown')\n",
        "nltk.download('universal_tagset')\n",
        "print(nltk.corpus.brown.tagged_words())\n",
        "nltk.corpus.brown.tagged_words(tagset='universal')"
      ]
    },
    {
      "cell_type": "code",
      "execution_count": null,
      "metadata": {
        "id": "2m4Z5kHRemmU"
      },
      "outputs": [],
      "source": []
    },
    {
      "cell_type": "markdown",
      "metadata": {
        "id": "5NePssu__YS3"
      },
      "source": [
        "Tagging other languages\n"
      ]
    },
    {
      "cell_type": "code",
      "execution_count": 2,
      "metadata": {
        "colab": {
          "base_uri": "https://localhost:8080/"
        },
        "id": "Q-zVDwlr_YS4",
        "outputId": "3c6ada66-6ea6-4384-e7f0-d189277ebf51"
      },
      "outputs": [
        {
          "name": "stderr",
          "output_type": "stream",
          "text": [
            "[nltk_data] Downloading package cess_esp to\n",
            "[nltk_data]     /Users/joe_codes/nltk_data...\n",
            "[nltk_data]   Package cess_esp is already up-to-date!\n"
          ]
        },
        {
          "data": {
            "text/plain": [
              "[('El', 'da0ms0'), ('grupo', 'ncms000'), ...]"
            ]
          },
          "execution_count": 2,
          "metadata": {},
          "output_type": "execute_result"
        }
      ],
      "source": [
        "import nltk\n",
        "nltk.download('cess_esp')\n",
        "nltk.corpus.cess_esp.tagged_words()"
      ]
    },
    {
      "cell_type": "markdown",
      "metadata": {
        "id": "To2iC07c_YS9"
      },
      "source": [
        "Most common tags\n"
      ]
    },
    {
      "cell_type": "code",
      "execution_count": null,
      "metadata": {
        "colab": {
          "base_uri": "https://localhost:8080/"
        },
        "id": "UO_fCXlB_YS-",
        "outputId": "02b2768f-aebf-4061-c20f-968aeadaf3f3"
      },
      "outputs": [],
      "source": [
        "from nltk.corpus import brown\n",
        "brown_news_tagged = brown.tagged_words(categories='news', tagset='universal')\n",
        "print(brown_news_tagged)\n",
        "tag_fd = nltk.FreqDist(tag for (word, tag) in brown_news_tagged)\n",
        "print(tag_fd.values())\n",
        "tag_fd.keys()\n",
        "\n",
        "list(tag_fd.most_common())"
      ]
    },
    {
      "cell_type": "markdown",
      "metadata": {
        "id": "Ucz8hgjd_YTC"
      },
      "source": [
        "### Mapping Words to Properties Using Python Dictionaries (Spanish Example)\n"
      ]
    },
    {
      "cell_type": "code",
      "execution_count": null,
      "metadata": {
        "colab": {
          "base_uri": "https://localhost:8080/",
          "height": 35
        },
        "id": "UJydS-Pk_YTD",
        "outputId": "fcc8855d-9e20-4d11-b69b-d064603fe3af"
      },
      "outputs": [],
      "source": [
        "pos = {}\n",
        "pos\n",
        "pos['sin color'] = 'ADJ'\n",
        "pos\n",
        "pos['ideas'] = 'SUS'\n",
        "pos['dormir'] = 'V'\n",
        "pos['furiousamente'] = 'ADV'\n",
        "pos\n",
        "pos['ideas']\n",
        "pos['sin color']"
      ]
    },
    {
      "cell_type": "markdown",
      "metadata": {
        "id": "_8I4f49L_YTI"
      },
      "source": [
        "### Default Dictionary\n",
        "\n",
        "Diccionary can automatically create am entry for new keys and give it a default value (0 or empty list)\n"
      ]
    },
    {
      "cell_type": "code",
      "execution_count": null,
      "metadata": {
        "colab": {
          "base_uri": "https://localhost:8080/"
        },
        "id": "G53lXu9Q_YTJ",
        "outputId": "95e599c7-c543-4ad1-d35a-955986dbd27e"
      },
      "outputs": [],
      "source": [
        "frequency = nltk.defaultdict(int)\n",
        "frequency['colorless'] = 4\n",
        "frequency['ideas']\n",
        "pos = nltk.defaultdict(list)\n",
        "pos['sleep'] = ['N', 'V']\n",
        "print('\\n')\n",
        "pos['ideas']\n",
        "print('\\n')\n",
        "pos['sleep']"
      ]
    },
    {
      "cell_type": "markdown",
      "metadata": {
        "id": "4YLDPwOz_YTM"
      },
      "source": [
        "### Automatic Tagging\n"
      ]
    },
    {
      "cell_type": "markdown",
      "metadata": {
        "id": "9HnQVXE0_YTM"
      },
      "source": [
        "The Default Tagger. The simplest possible tagger assigns the same tag to each token (NN). Notice poor performance.\n"
      ]
    },
    {
      "cell_type": "code",
      "execution_count": null,
      "metadata": {
        "colab": {
          "base_uri": "https://localhost:8080/"
        },
        "id": "1FOdFCyR_YTN",
        "outputId": "73bb1114-c920-4b6e-88bd-2d122608f4ec"
      },
      "outputs": [],
      "source": [
        "import nltk\n",
        "from nltk.corpus import brown\n",
        "raw = 'I do not like green eggs and ham, I do not like them Sam I am!'\n",
        "tokens = nltk.word_tokenize(raw)\n",
        "default_tagger = nltk.DefaultTagger('NN')\n",
        "default_tagger.tag(tokens)\n",
        "brown_tagged_sents = brown.tagged_sents(categories='news')\n",
        "print('\\n Perc of Correctly tagged tokens -> ',\n",
        "      round(default_tagger.evaluate(brown_tagged_sents)*100), '%')"
      ]
    },
    {
      "cell_type": "markdown",
      "metadata": {
        "id": "_dwalOOZzgPP"
      },
      "source": [
        "Creating and evaluating lookup tagger with a range of sizes.\n",
        "(Read 4.3 The Lookup Tagger in https://www.nltk.org/book/ch05.html)\n",
        "\n",
        "---\n"
      ]
    },
    {
      "cell_type": "code",
      "execution_count": null,
      "metadata": {
        "colab": {
          "base_uri": "https://localhost:8080/",
          "height": 404
        },
        "id": "YceesuV9_YTR",
        "outputId": "1d3e7f6d-143d-4c8b-c9a4-05b8f3d61ec7"
      },
      "outputs": [],
      "source": [
        "import nltk\n",
        "from nltk.corpus import brown\n",
        "words_by_freq = list(nltk.FreqDist(brown.words(categories='news')))\n",
        "print(words_by_freq)\n",
        "\n",
        "\n",
        "def performance(cfd, wordlist):\n",
        "    lt = dict((word, cfd[word].max()) for word in wordlist)\n",
        "    baseline_tagger = nltk.UnigramTagger(\n",
        "        model=lt, backoff=nltk.DefaultTagger('NN'))\n",
        "    return baseline_tagger.evaluate(brown.tagged_sents(categories='news'))\n",
        "\n",
        "\n",
        "def display():\n",
        "    import pylab\n",
        "    words_by_freq = list(nltk.FreqDist(brown.words(categories='news')))\n",
        "    cfd = nltk.ConditionalFreqDist(brown.tagged_words(categories='news'))\n",
        "    sizes = 2 ** pylab.arange(15)\n",
        "    perfs = [performance(cfd, words_by_freq[:size]) for size in sizes]\n",
        "    pylab.plot(sizes, perfs, '-bo')\n",
        "    pylab.title('Lookup Tagger Performance with Varying Model Size')\n",
        "    pylab.xlabel('Model Size')\n",
        "    pylab.ylabel('Performance')\n",
        "    pylab.show()\n",
        "\n",
        "\n",
        "display()"
      ]
    },
    {
      "cell_type": "markdown",
      "metadata": {
        "id": "ZuIBGWsF_YTU"
      },
      "source": [
        "### N-Gram Tagging\n"
      ]
    },
    {
      "cell_type": "markdown",
      "metadata": {
        "id": "Q7VNrjPN_YTV"
      },
      "source": [
        "Unigram Tagging. For each token, assign the tag that is most likely for that particular token. Training of a UNIGRAM tagger and evaluation\n"
      ]
    },
    {
      "cell_type": "code",
      "execution_count": null,
      "metadata": {
        "colab": {
          "base_uri": "https://localhost:8080/",
          "height": 399
        },
        "id": "rMfzXgds_YTW",
        "outputId": "93304dfe-0546-4467-e50a-11cf8dc8434a"
      },
      "outputs": [],
      "source": [
        "from nltk.corpus import brown\n",
        "brown_tagged_sents = brown.tagged_sents(categories='news')\n",
        "brown_sents = brown.sents(categories='news')\n",
        "unigram_tagger = nltk.UnigramTagger(brown_tagged_sents)\n",
        "unigram_tagger.tag(brown_sents[2007])\n",
        "print('\\n Perc of Correctly tagged tokens -> ',\n",
        "      round(unigram_tagger.evaluate(brown_tagged_sents)*100), '%')"
      ]
    },
    {
      "cell_type": "markdown",
      "metadata": {
        "id": "7c7ywA3i_YTZ"
      },
      "source": [
        "Separating training and testing data sets. Notice the different scores between train (used to build system 90%) and test (not used while building the system 10%).\n"
      ]
    },
    {
      "cell_type": "code",
      "execution_count": null,
      "metadata": {
        "colab": {
          "base_uri": "https://localhost:8080/",
          "height": 121
        },
        "id": "4UnxaMmO_YTa",
        "outputId": "3e404ecf-3401-4946-9d64-07f657218137"
      },
      "outputs": [],
      "source": [
        "size = int(len(brown_tagged_sents) * 0.9)\n",
        "size\n",
        "train_sents = brown_tagged_sents[:size]\n",
        "test_sents = brown_tagged_sents[size:]\n",
        "unigram_tagger = nltk.UnigramTagger(train_sents)\n",
        "print('\\n')\n",
        "print('\\n Perc of Correctly tagged tokens on training data -> ',\n",
        "      round(unigram_tagger.evaluate(train_sents)*100), '%')\n",
        "print('\\n Perc of Correctly tagged tokens on testing data  -> ',\n",
        "      round(unigram_tagger.evaluate(test_sents)*100), '%')"
      ]
    },
    {
      "cell_type": "markdown",
      "metadata": {
        "id": "jHBu2oT8_YTd"
      },
      "source": [
        "Bigram tagger. Notice perfomance difference between training and testing sentence.\n"
      ]
    },
    {
      "cell_type": "code",
      "execution_count": null,
      "metadata": {
        "colab": {
          "base_uri": "https://localhost:8080/",
          "height": 920
        },
        "id": "_hMH9DE7_YTe",
        "outputId": "14b48f85-9c4f-4648-f751-44b30520625c"
      },
      "outputs": [],
      "source": [
        "bigram_tagger = nltk.BigramTagger(train_sents)\n",
        "bigram_tagger.tag(brown_sents[2007])\n",
        "unseen_sent = brown_sents[4203]\n",
        "bigram_tagger.tag(unseen_sent)\n",
        "\n",
        "\n",
        "print('\\n')\n",
        "print('\\n Perc of Correctly tagged tokens on training data -> ',\n",
        "      round(bigram_tagger.evaluate(train_sents)*100), '%')\n",
        "print('\\n Perc of Correctly tagged tokens on testing data  -> ',\n",
        "      round(bigram_tagger.evaluate(test_sents)*100), '%')"
      ]
    },
    {
      "cell_type": "markdown",
      "metadata": {
        "id": "HYo0BHeX_YTi"
      },
      "source": [
        "### Transformation Based Tagging\n",
        "\n",
        "Brill tagging (Supervised Learning Method) -> Guess the tag for each word and go back and fix mistakes by applying rules. (see 6 Transformation-Based Tagging in https://www.nltk.org/book/ch05.html)\n"
      ]
    },
    {
      "cell_type": "code",
      "execution_count": null,
      "metadata": {
        "colab": {
          "base_uri": "https://localhost:8080/",
          "height": 972
        },
        "id": "LnuUxu9J_YTi",
        "outputId": "0a4f185f-83b2-42a4-add2-1687a151e2d8"
      },
      "outputs": [],
      "source": [
        "import nltk\n",
        "\n",
        "\n",
        "from nltk.tbl import demo as brill_tagger\n",
        "brill_tagger.demo()"
      ]
    }
  ],
  "metadata": {
    "colab": {
      "collapsed_sections": [],
      "provenance": []
    },
    "kernelspec": {
      "display_name": "venv",
      "language": "python",
      "name": "python3"
    },
    "language_info": {
      "codemirror_mode": {
        "name": "ipython",
        "version": 3
      },
      "file_extension": ".py",
      "mimetype": "text/x-python",
      "name": "python",
      "nbconvert_exporter": "python",
      "pygments_lexer": "ipython3",
      "version": "3.12.4"
    }
  },
  "nbformat": 4,
  "nbformat_minor": 0
}
