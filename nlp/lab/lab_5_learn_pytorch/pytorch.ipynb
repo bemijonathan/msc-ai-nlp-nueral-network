{
 "cells": [
  {
   "cell_type": "markdown",
   "metadata": {},
   "source": [
    "### Learning Pytorch\n",
    "\n",
    "#### core Modules in pytorch\n",
    "\n",
    "PyTorch is organized into several core modules that provide tools for building, training, and deploying machine learning models. Below are the key modules:\n",
    "\n",
    "---\n",
    "\n",
    "#### 1. **torch**\n",
    "\n",
    "This is the base module containing PyTorch’s core data structures, like tensors, and basic mathematical operations.\n",
    "\n",
    "- **Key components:**\n",
    "  - `torch.tensor`: Multidimensional arrays (like NumPy arrays).\n",
    "  - Mathematical functions: `torch.add`, `torch.mean`, `torch.matmul`.\n",
    "  - Random number generation: `torch.manual_seed`.\n",
    "  - CUDA support: `torch.cuda` for GPU acceleration.\n",
    "\n",
    "### 2. **torch.nn** (Neural Networks)\n",
    "\n",
    "Contains tools to build and train neural networks.\n",
    "\n",
    "- **Key components:**\n",
    "  - `nn.Module`: Base class for all models.\n",
    "  - Layers: `nn.Linear`, `nn.Conv2d`, `nn.LSTM`.\n",
    "  - Activation functions: `nn.ReLU`, `nn.Softmax`.\n",
    "  - Loss functions: `nn.MSELoss`, `nn.CrossEntropyLoss`.\n",
    "\n",
    "---\n",
    "\n",
    "### 3. **torch.optim** (Optimization)\n",
    "\n",
    "Provides popular optimization algorithms for training models.\n",
    "\n",
    "- **Key optimizers:**\n",
    "  - `optim.SGD`: Stochastic Gradient Descent.\n",
    "  - `optim.Adam`: Adaptive moment estimation optimizer.\n",
    "  - `optim.lr_scheduler`: Learning rate scheduling.\n",
    "\n",
    "---\n",
    "\n",
    "### 4. **torch.autograd** (Automatic Differentiation)\n",
    "\n",
    "Handles back propagation by tracking operations on tensors and computing gradients automatically.\n",
    "\n",
    "- **Key components:**\n",
    "  - `autograd.backward`: Backpropagation of losses.\n",
    "  - `torch.Tensor.backward`: Compute gradients for a tensor.\n",
    "  - `with torch.no_grad()`: Disables gradient tracking for inference.\n",
    "\n",
    "---\n",
    "\n",
    "### 5. **torch.utils.data** (Data Handling)\n",
    "\n",
    "Facilitates data loading, batching, and preprocessing.\n",
    "\n",
    "- **Key components:**\n",
    "  - `DataLoader`: Batches and loads data during training.\n",
    "  - `Dataset`: Base class for creating custom datasets.\n",
    "  - `random_split`: Split data into training and test sets.\n",
    "\n",
    "---\n",
    "\n",
    "### 6. **torchvision** (Computer Vision)\n",
    "\n",
    "Provides tools, models, and datasets specific to computer vision tasks.\n",
    "\n",
    "- **Key components:**\n",
    "  - Pretrained models: `torchvision.models` (e.g., ResNet, VGG).\n",
    "  - Common datasets: `torchvision.datasets` (e.g., MNIST, CIFAR-10).\n",
    "  - Image transformations: `torchvision.transforms`.\n",
    "\n",
    "---\n",
    "\n",
    "### 7. **torchtext** (Natural Language Processing)\n",
    "\n",
    "Focused on NLP, with tools for tokenization, datasets, and pretrained embeddings.\n",
    "\n",
    "- **Key components:**\n",
    "  - Datasets: `torchtext.datasets` (e.g., IMDB, AG News).\n",
    "  - Tokenizers: Convert text into sequences of tokens.\n",
    "  - Vectors: Pretrained embeddings like GloVe.\n",
    "\n",
    "---\n",
    "\n",
    "### 8. **torchaudio** (Audio Processing)\n",
    "\n",
    "Provides tools for working with audio data, including datasets and transformations.\n",
    "\n",
    "- **Key components:**\n",
    "  - Audio datasets: `torchaudio.datasets`.\n",
    "  - Transforms: `torchaudio.transforms` (e.g., spectrogram, mel-spectrogram).\n",
    "  - I/O: Functions to load and save audio files.\n",
    "\n",
    "---\n",
    "\n",
    "### 9. **torch.cuda** (GPU Support)\n",
    "\n",
    "Handles computations on GPUs using CUDA.\n",
    "\n",
    "- **Key components:**\n",
    "  - `torch.cuda.is_available`: Check if CUDA is available.\n",
    "  - `cuda()`: Move tensors/models to the GPU.\n",
    "  - CUDA-specific random number generation.\n",
    "\n",
    "---\n",
    "\n",
    "### 10. **torch.jit** (TorchScript)\n",
    "\n",
    "Supports the conversion of PyTorch models to a more optimized, serializable format for deployment.\n",
    "\n",
    "- **Key components:**\n",
    "  - `torch.jit.trace`: Converts models to TorchScript using tracing.\n",
    "  - `torch.jit.script`: Converts models to TorchScript using scripting.\n"
   ]
  },
  {
   "cell_type": "code",
   "execution_count": null,
   "metadata": {},
   "outputs": [],
   "source": [
    "!pip3 install torch torchvision torchaudio"
   ]
  },
  {
   "cell_type": "code",
   "execution_count": 10,
   "metadata": {},
   "outputs": [
    {
     "name": "stdout",
     "output_type": "stream",
     "text": [
      "tensor([[ 8., 12.],\n",
      "        [ 9., 11.]])\n"
     ]
    }
   ],
   "source": [
    "import torch\n",
    "\n",
    "x = torch.tensor([5.5, 3])\n",
    "y = torch.tensor([[2.5, 9], [3.5, 8]])\n",
    "print(x + y)"
   ]
  },
  {
   "cell_type": "code",
   "execution_count": 14,
   "metadata": {},
   "outputs": [
    {
     "name": "stdout",
     "output_type": "stream",
     "text": [
      "[[2.5 9. ]\n",
      " [3.5 8. ]]\n"
     ]
    }
   ],
   "source": [
    "# we can covert numpy array to pytorch tensor and vice versa\n",
    "import numpy as np\n",
    "\n",
    "z = np.array([[2.5, 9], [3.5, 8]])\n",
    "\n",
    "pytorch_z = torch.from_numpy(z)\n",
    "print(pytorch_z.numpy())"
   ]
  },
  {
   "cell_type": "code",
   "execution_count": 16,
   "metadata": {},
   "outputs": [
    {
     "name": "stdout",
     "output_type": "stream",
     "text": [
      "Ones Tensor: \n",
      " tensor([[1, 1],\n",
      "        [1, 1]]) \n",
      "\n",
      "Random Tensor: \n",
      " tensor([[0.8544, 0.5253],\n",
      "        [0.4911, 0.6466]]) \n",
      "\n"
     ]
    }
   ],
   "source": [
    "data = [[1, 2], [3, 4]]\n",
    "x_data = torch.tensor(data)\n",
    "\n",
    "#  we can print alike tensors with the same properties as x_data\n",
    "x_ones = torch.ones_like(x_data)  # retains the properties of x_data\n",
    "print(f\"Ones Tensor: \\n {x_ones} \\n\")\n",
    "\n",
    "# overrides the datatype of x_data\n",
    "x_rand = torch.rand_like(x_data, dtype=torch.float)\n",
    "print(f\"Random Tensor: \\n {x_rand} \\n\")"
   ]
  },
  {
   "cell_type": "code",
   "execution_count": 17,
   "metadata": {},
   "outputs": [
    {
     "name": "stdout",
     "output_type": "stream",
     "text": [
      "Random Tensor: \n",
      " tensor([[0.2455, 0.3271, 0.2136],\n",
      "        [0.0760, 0.1106, 0.3527]]) \n",
      "\n",
      "Ones Tensor: \n",
      " tensor([[1., 1., 1.],\n",
      "        [1., 1., 1.]]) \n",
      "\n",
      "Zeros Tensor: \n",
      " tensor([[0., 0., 0.],\n",
      "        [0., 0., 0.]])\n"
     ]
    }
   ],
   "source": [
    "# understanding  the shape of the tensor\n",
    "shape = (2, 3,)\n",
    "rand_tensor = torch.rand(shape)\n",
    "ones_tensor = torch.ones(shape)\n",
    "zeros_tensor = torch.zeros(shape)\n",
    "\n",
    "print(f\"Random Tensor: \\n {rand_tensor} \\n\")\n",
    "print(f\"Ones Tensor: \\n {ones_tensor} \\n\")\n",
    "print(f\"Zeros Tensor: \\n {zeros_tensor}\")"
   ]
  },
  {
   "cell_type": "code",
   "execution_count": 64,
   "metadata": {},
   "outputs": [
    {
     "name": "stdout",
     "output_type": "stream",
     "text": [
      "Shape of tensor: torch.Size([3, 4, 3, 4, 9])\n",
      "Datatype of tensor: torch.float32\n",
      "Device tensor is stored on: cpu\n"
     ]
    }
   ],
   "source": [
    "# properties of the tensor\n",
    "# 3 x 4 x 3 x 4 x 9 tensor\n",
    "#  3 channels, 4 rows, 3 columns, 4 rows, 9 columns\n",
    "tensor = torch.rand(3, 4, 3, 4, 9)\n",
    "\n",
    "print(f\"Shape of tensor: {tensor.shape}\")\n",
    "print(f\"Datatype of tensor: {tensor.dtype}\")\n",
    "print(f\"Device tensor is stored on: {tensor.device}\")"
   ]
  },
  {
   "cell_type": "code",
   "execution_count": 63,
   "metadata": {},
   "outputs": [
    {
     "name": "stdout",
     "output_type": "stream",
     "text": [
      "tensor([[[[0.2694, 0.4388, 0.6836, 0.3754],\n",
      "          [0.3094, 0.2341, 0.6209, 0.3600],\n",
      "          [0.5051, 0.4114, 0.0911, 0.2072]],\n",
      "\n",
      "         [[0.9766, 0.2990, 0.3151, 0.5127],\n",
      "          [0.6143, 0.6727, 0.6965, 0.1814],\n",
      "          [0.2783, 0.6453, 0.1950, 0.4175]],\n",
      "\n",
      "         [[0.7497, 0.2420, 0.7860, 0.6772],\n",
      "          [0.4887, 0.6651, 0.3098, 0.2508],\n",
      "          [0.9067, 0.6663, 0.8633, 0.0158]],\n",
      "\n",
      "         [[0.4366, 0.2878, 0.7175, 0.1653],\n",
      "          [0.9302, 0.3155, 0.6358, 0.4601],\n",
      "          [0.3457, 0.0302, 0.3301, 0.2699]]],\n",
      "\n",
      "\n",
      "        [[[0.6119, 0.7620, 0.0504, 0.0220],\n",
      "          [0.1709, 0.5925, 0.8525, 0.6063],\n",
      "          [0.2334, 0.9144, 0.5277, 0.6696]],\n",
      "\n",
      "         [[0.9608, 0.6597, 0.6444, 0.8833],\n",
      "          [0.0742, 0.2175, 0.0642, 0.1430],\n",
      "          [0.4187, 0.8406, 0.6824, 0.1042]],\n",
      "\n",
      "         [[0.7693, 0.1051, 0.0470, 0.2040],\n",
      "          [0.4225, 0.3188, 0.0592, 0.8785],\n",
      "          [0.2121, 0.5786, 0.6907, 0.5537]],\n",
      "\n",
      "         [[0.8995, 0.6549, 0.0273, 0.7298],\n",
      "          [0.7228, 0.6845, 0.7651, 0.0659],\n",
      "          [0.0023, 0.2650, 0.8824, 0.5782]]],\n",
      "\n",
      "\n",
      "        [[[0.4216, 0.2892, 0.7455, 0.5438],\n",
      "          [0.3310, 0.7399, 0.0708, 0.5057],\n",
      "          [0.4628, 0.2380, 0.0993, 0.7848]],\n",
      "\n",
      "         [[0.2278, 0.1595, 0.6629, 0.7792],\n",
      "          [0.4385, 0.2904, 0.3003, 0.5202],\n",
      "          [0.2142, 0.5786, 0.1509, 0.4571]],\n",
      "\n",
      "         [[0.3904, 0.2584, 0.8663, 0.0332],\n",
      "          [0.7331, 0.7698, 0.7809, 0.6360],\n",
      "          [0.9188, 0.2640, 0.1075, 0.9345]],\n",
      "\n",
      "         [[0.5265, 0.1359, 0.0211, 0.5661],\n",
      "          [0.8518, 0.5184, 0.8062, 0.9569],\n",
      "          [0.0187, 0.7267, 0.8194, 0.1731]]]])\n"
     ]
    }
   ],
   "source": [
    "# other property of the tensor\n",
    "\n",
    "print(tensor)"
   ]
  },
  {
   "cell_type": "code",
   "execution_count": 20,
   "metadata": {},
   "outputs": [
    {
     "data": {
      "text/plain": [
       "False"
      ]
     },
     "execution_count": 20,
     "metadata": {},
     "output_type": "execute_result"
    }
   ],
   "source": [
    "torch.cuda.is_available()"
   ]
  },
  {
   "cell_type": "code",
   "execution_count": 28,
   "metadata": {},
   "outputs": [
    {
     "name": "stdout",
     "output_type": "stream",
     "text": [
      "First row:  tensor([0.8723, 0.3595, 0.3354, 0.7226])\n",
      "First column:  tensor([0.8723, 0.1485, 0.2354, 0.9937])\n",
      "Last column: tensor([0.7226, 0.4434, 0.4464, 0.5429])\n",
      "tensor([[0.8723, 0.3595, 0.3354, 0.7226],\n",
      "        [0.1485, 0.9152, 0.1140, 0.4434],\n",
      "        [0.2354, 0.1889, 0.3311, 0.4464],\n",
      "        [0.9937, 0.7150, 0.6126, 0.5429]])\n"
     ]
    }
   ],
   "source": [
    "#  understanding positional indexing\n",
    "tensor = torch.rand(4, 4)\n",
    "print('First row: ', tensor[0])\n",
    "print('First column: ', tensor[:, 0])\n",
    "print('Last column:', tensor[:, -1])\n",
    "tensor[:, 1] = 0\n",
    "print(tensor)"
   ]
  },
  {
   "cell_type": "code",
   "execution_count": 30,
   "metadata": {},
   "outputs": [
    {
     "name": "stdout",
     "output_type": "stream",
     "text": [
      "48\n"
     ]
    }
   ],
   "source": [
    "#  joining tensors\n",
    "t1 = torch.cat([tensor, tensor, tensor], dim=1)\n",
    "print(t1.numel())"
   ]
  },
  {
   "cell_type": "code",
   "execution_count": 35,
   "metadata": {},
   "outputs": [
    {
     "name": "stdout",
     "output_type": "stream",
     "text": [
      "tensor([[1., 0., 0., 1.],\n",
      "        [0., 1., 0., 0.],\n",
      "        [0., 0., 0., 0.],\n",
      "        [1., 1., 1., 1.]])\n",
      "7.0 tensor(7.)\n"
     ]
    },
    {
     "data": {
      "text/plain": [
       "tensor([[5.8723, 5.3595, 5.3354, 5.7226],\n",
       "        [5.1485, 5.9152, 5.1140, 5.4434],\n",
       "        [5.2354, 5.1889, 5.3311, 5.4464],\n",
       "        [5.9937, 5.7150, 5.6126, 5.5429]])"
      ]
     },
     "execution_count": 35,
     "metadata": {},
     "output_type": "execute_result"
    }
   ],
   "source": [
    "print(tensor.round())\n",
    "agg = tensor.round().sum()\n",
    "agg_item = agg.item()\n",
    "print(agg_item, agg)\n",
    "tensor.add_(5)"
   ]
  },
  {
   "cell_type": "markdown",
   "metadata": {},
   "source": [
    "### Data in PyTorch\n",
    "\n",
    "PyTorch provides two data primitives: `torch.utils.data.DataLoader` and `torch.utils.data.Dataset`\n",
    "Dataset stores the samples and their corresponding labels\n",
    "DataLoader wraps an iterable around the Dataset to enable easy access to the samples.\n"
   ]
  },
  {
   "cell_type": "code",
   "execution_count": 38,
   "metadata": {},
   "outputs": [
    {
     "name": "stdout",
     "output_type": "stream",
     "text": [
      "Collecting matplotlib\n",
      "  Downloading matplotlib-3.9.2-cp312-cp312-macosx_11_0_arm64.whl.metadata (11 kB)\n",
      "Collecting contourpy>=1.0.1 (from matplotlib)\n",
      "  Downloading contourpy-1.3.0-cp312-cp312-macosx_11_0_arm64.whl.metadata (5.4 kB)\n",
      "Collecting cycler>=0.10 (from matplotlib)\n",
      "  Using cached cycler-0.12.1-py3-none-any.whl.metadata (3.8 kB)\n",
      "Collecting fonttools>=4.22.0 (from matplotlib)\n",
      "  Downloading fonttools-4.54.1-cp312-cp312-macosx_11_0_arm64.whl.metadata (163 kB)\n",
      "\u001b[2K     \u001b[90m━━━━━━━━━━━━━━━━━━━━━━━━━━━━━━━━━━━━━━━\u001b[0m \u001b[32m163.7/163.7 kB\u001b[0m \u001b[31m3.0 MB/s\u001b[0m eta \u001b[36m0:00:00\u001b[0ma \u001b[36m0:00:01\u001b[0m\n",
      "\u001b[?25hCollecting kiwisolver>=1.3.1 (from matplotlib)\n",
      "  Downloading kiwisolver-1.4.7-cp312-cp312-macosx_11_0_arm64.whl.metadata (6.3 kB)\n",
      "Requirement already satisfied: numpy>=1.23 in /Users/joe_codes/dev/school/nueral_networks/venv/lib/python3.12/site-packages (from matplotlib) (2.0.2)\n",
      "Requirement already satisfied: packaging>=20.0 in /Users/joe_codes/dev/school/nueral_networks/venv/lib/python3.12/site-packages (from matplotlib) (24.1)\n",
      "Requirement already satisfied: pillow>=8 in /Users/joe_codes/dev/school/nueral_networks/venv/lib/python3.12/site-packages (from matplotlib) (11.0.0)\n",
      "Collecting pyparsing>=2.3.1 (from matplotlib)\n",
      "  Downloading pyparsing-3.2.0-py3-none-any.whl.metadata (5.0 kB)\n",
      "Requirement already satisfied: python-dateutil>=2.7 in /Users/joe_codes/dev/school/nueral_networks/venv/lib/python3.12/site-packages (from matplotlib) (2.9.0.post0)\n",
      "Requirement already satisfied: six>=1.5 in /Users/joe_codes/dev/school/nueral_networks/venv/lib/python3.12/site-packages (from python-dateutil>=2.7->matplotlib) (1.16.0)\n",
      "Downloading matplotlib-3.9.2-cp312-cp312-macosx_11_0_arm64.whl (7.8 MB)\n",
      "\u001b[2K   \u001b[90m━━━━━━━━━━━━━━━━━━━━━━━━━━━━━━━━━━━━━━━━\u001b[0m \u001b[32m7.8/7.8 MB\u001b[0m \u001b[31m6.9 MB/s\u001b[0m eta \u001b[36m0:00:00\u001b[0m00:01\u001b[0m00:01\u001b[0m\n",
      "\u001b[?25hDownloading contourpy-1.3.0-cp312-cp312-macosx_11_0_arm64.whl (251 kB)\n",
      "\u001b[2K   \u001b[90m━━━━━━━━━━━━━━━━━━━━━━━━━━━━━━━━━━━━━━━━\u001b[0m \u001b[32m251.5/251.5 kB\u001b[0m \u001b[31m8.4 MB/s\u001b[0m eta \u001b[36m0:00:00\u001b[0m\n",
      "\u001b[?25hUsing cached cycler-0.12.1-py3-none-any.whl (8.3 kB)\n",
      "Downloading fonttools-4.54.1-cp312-cp312-macosx_11_0_arm64.whl (2.3 MB)\n",
      "\u001b[2K   \u001b[90m━━━━━━━━━━━━━━━━━━━━━━━━━━━━━━━━━━━━━━━━\u001b[0m \u001b[32m2.3/2.3 MB\u001b[0m \u001b[31m10.9 MB/s\u001b[0m eta \u001b[36m0:00:00\u001b[0ma \u001b[36m0:00:01\u001b[0m\n",
      "\u001b[?25hDownloading kiwisolver-1.4.7-cp312-cp312-macosx_11_0_arm64.whl (63 kB)\n",
      "\u001b[2K   \u001b[90m━━━━━━━━━━━━━━━━━━━━━━━━━━━━━━━━━━━━━━━━\u001b[0m \u001b[32m63.9/63.9 kB\u001b[0m \u001b[31m7.6 MB/s\u001b[0m eta \u001b[36m0:00:00\u001b[0m\n",
      "\u001b[?25hDownloading pyparsing-3.2.0-py3-none-any.whl (106 kB)\n",
      "\u001b[2K   \u001b[90m━━━━━━━━━━━━━━━━━━━━━━━━━━━━━━━━━━━━━━━━\u001b[0m \u001b[32m106.9/106.9 kB\u001b[0m \u001b[31m6.9 MB/s\u001b[0m eta \u001b[36m0:00:00\u001b[0m\n",
      "\u001b[?25hInstalling collected packages: pyparsing, kiwisolver, fonttools, cycler, contourpy, matplotlib\n",
      "Successfully installed contourpy-1.3.0 cycler-0.12.1 fonttools-4.54.1 kiwisolver-1.4.7 matplotlib-3.9.2 pyparsing-3.2.0\n",
      "\n",
      "\u001b[1m[\u001b[0m\u001b[34;49mnotice\u001b[0m\u001b[1;39;49m]\u001b[0m\u001b[39;49m A new release of pip is available: \u001b[0m\u001b[31;49m24.0\u001b[0m\u001b[39;49m -> \u001b[0m\u001b[32;49m24.2\u001b[0m\n",
      "\u001b[1m[\u001b[0m\u001b[34;49mnotice\u001b[0m\u001b[1;39;49m]\u001b[0m\u001b[39;49m To update, run: \u001b[0m\u001b[32;49mpip install --upgrade pip\u001b[0m\n",
      "Downloading http://fashion-mnist.s3-website.eu-central-1.amazonaws.com/train-images-idx3-ubyte.gz\n",
      "Downloading http://fashion-mnist.s3-website.eu-central-1.amazonaws.com/train-images-idx3-ubyte.gz to data/FashionMNIST/raw/train-images-idx3-ubyte.gz\n"
     ]
    },
    {
     "name": "stderr",
     "output_type": "stream",
     "text": [
      "100%|██████████| 26.4M/26.4M [00:01<00:00, 15.3MB/s]\n"
     ]
    },
    {
     "name": "stdout",
     "output_type": "stream",
     "text": [
      "Extracting data/FashionMNIST/raw/train-images-idx3-ubyte.gz to data/FashionMNIST/raw\n",
      "\n",
      "Downloading http://fashion-mnist.s3-website.eu-central-1.amazonaws.com/train-labels-idx1-ubyte.gz\n",
      "Downloading http://fashion-mnist.s3-website.eu-central-1.amazonaws.com/train-labels-idx1-ubyte.gz to data/FashionMNIST/raw/train-labels-idx1-ubyte.gz\n"
     ]
    },
    {
     "name": "stderr",
     "output_type": "stream",
     "text": [
      "100%|██████████| 29.5k/29.5k [00:00<00:00, 1.14MB/s]\n"
     ]
    },
    {
     "name": "stdout",
     "output_type": "stream",
     "text": [
      "Extracting data/FashionMNIST/raw/train-labels-idx1-ubyte.gz to data/FashionMNIST/raw\n",
      "\n",
      "Downloading http://fashion-mnist.s3-website.eu-central-1.amazonaws.com/t10k-images-idx3-ubyte.gz\n",
      "Downloading http://fashion-mnist.s3-website.eu-central-1.amazonaws.com/t10k-images-idx3-ubyte.gz to data/FashionMNIST/raw/t10k-images-idx3-ubyte.gz\n"
     ]
    },
    {
     "name": "stderr",
     "output_type": "stream",
     "text": [
      "100%|██████████| 4.42M/4.42M [00:00<00:00, 14.9MB/s]\n"
     ]
    },
    {
     "name": "stdout",
     "output_type": "stream",
     "text": [
      "Extracting data/FashionMNIST/raw/t10k-images-idx3-ubyte.gz to data/FashionMNIST/raw\n",
      "\n",
      "Downloading http://fashion-mnist.s3-website.eu-central-1.amazonaws.com/t10k-labels-idx1-ubyte.gz\n",
      "Downloading http://fashion-mnist.s3-website.eu-central-1.amazonaws.com/t10k-labels-idx1-ubyte.gz to data/FashionMNIST/raw/t10k-labels-idx1-ubyte.gz\n"
     ]
    },
    {
     "name": "stderr",
     "output_type": "stream",
     "text": [
      "100%|██████████| 5.15k/5.15k [00:00<00:00, 12.1MB/s]"
     ]
    },
    {
     "name": "stdout",
     "output_type": "stream",
     "text": [
      "Extracting data/FashionMNIST/raw/t10k-labels-idx1-ubyte.gz to data/FashionMNIST/raw\n",
      "\n"
     ]
    },
    {
     "name": "stderr",
     "output_type": "stream",
     "text": [
      "\n"
     ]
    }
   ],
   "source": [
    "!pip3 install matplotlib\n",
    "import torch\n",
    "from torch.utils.data import Dataset\n",
    "from torchvision import datasets\n",
    "from torchvision.transforms import ToTensor\n",
    "import matplotlib.pyplot as plt\n",
    "\n",
    "\n",
    "training_data = datasets.FashionMNIST(\n",
    "    root=\"data\",\n",
    "    train=True,\n",
    "    download=True,\n",
    "    transform=ToTensor()\n",
    ")\n",
    "\n",
    "test_data = datasets.FashionMNIST(\n",
    "    root=\"data\",\n",
    "    train=False,\n",
    "    download=True,\n",
    "    transform=ToTensor()\n",
    ")  # Loading a Dataset"
   ]
  },
  {
   "cell_type": "code",
   "execution_count": 52,
   "metadata": {},
   "outputs": [
    {
     "name": "stdout",
     "output_type": "stream",
     "text": [
      "tensor([0, 1, 2, 3, 4, 5, 6, 7, 8, 9])\n",
      "['__add__', '__annotations__', '__class__', '__class_getitem__', '__delattr__', '__dict__', '__dir__', '__doc__', '__eq__', '__format__', '__ge__', '__getattribute__', '__getitem__', '__getstate__', '__gt__', '__hash__', '__init__', '__init_subclass__', '__le__', '__len__', '__lt__', '__module__', '__ne__', '__new__', '__orig_bases__', '__parameters__', '__reduce__', '__reduce_ex__', '__repr__', '__setattr__', '__sizeof__', '__str__', '__subclasshook__', '__weakref__', '_check_exists', '_check_legacy_exist', '_format_transform_repr', '_load_data', '_load_legacy_data', '_repr_indent', 'class_to_idx', 'classes', 'data', 'download', 'extra_repr', 'mirrors', 'processed_folder', 'raw_folder', 'resources', 'root', 'target_transform', 'targets', 'test_data', 'test_file', 'test_labels', 'train', 'train_data', 'train_labels', 'training_file', 'transform', 'transforms']\n"
     ]
    }
   ],
   "source": [
    "print(training_data.targets.unique())\n",
    "print(dir(training_data))"
   ]
  },
  {
   "cell_type": "code",
   "execution_count": 53,
   "metadata": {},
   "outputs": [
    {
     "data": {
      "image/png": "[encoded data removed]",
      "text/plain": [
       "<Figure size 800x800 with 9 Axes>"
      ]
     },
     "metadata": {},
     "output_type": "display_data"
    }
   ],
   "source": [
    "labels_map = {\n",
    "    0: \"T-Shirt\",\n",
    "    1: \"Trouser\",\n",
    "    2: \"Pullover\",\n",
    "    3: \"Dress\",\n",
    "    4: \"Coat\",\n",
    "    5: \"Sandal\",\n",
    "    6: \"Shirt\",\n",
    "    7: \"Sneaker\",\n",
    "    8: \"Bag\",\n",
    "    9: \"Ankle Boot\",\n",
    "}\n",
    "figure = plt.figure(figsize=(8, 8))\n",
    "cols, rows = 3, 3\n",
    "for i in range(1, cols * rows + 1):\n",
    "    #  pick a random image\n",
    "    sample_idx = torch.randint(len(training_data), size=(1,)).item()\n",
    "    # find the image and label\n",
    "    img, label = training_data[sample_idx]\n",
    "    figure.add_subplot(rows, cols, i)\n",
    "    plt.title(labels_map[label])\n",
    "    plt.axis(\"off\")\n",
    "    plt.imshow(img.squeeze(), cmap=\"gray\")\n",
    "plt.show()"
   ]
  },
  {
   "cell_type": "code",
   "execution_count": 54,
   "metadata": {},
   "outputs": [
    {
     "name": "stdout",
     "output_type": "stream",
     "text": [
      "Collecting pandas\n",
      "  Downloading pandas-2.2.3-cp312-cp312-macosx_11_0_arm64.whl.metadata (89 kB)\n",
      "\u001b[2K     \u001b[90m━━━━━━━━━━━━━━━━━━━━━━━━━━━━━━━━━━━━━━━━\u001b[0m \u001b[32m89.9/89.9 kB\u001b[0m \u001b[31m1.9 MB/s\u001b[0m eta \u001b[36m0:00:00\u001b[0ma \u001b[36m0:00:01\u001b[0m\n",
      "\u001b[?25hRequirement already satisfied: numpy>=1.26.0 in /Users/joe_codes/dev/school/nueral_networks/venv/lib/python3.12/site-packages (from pandas) (2.0.2)\n",
      "Requirement already satisfied: python-dateutil>=2.8.2 in /Users/joe_codes/dev/school/nueral_networks/venv/lib/python3.12/site-packages (from pandas) (2.9.0.post0)\n",
      "Collecting pytz>=2020.1 (from pandas)\n",
      "  Using cached pytz-2024.2-py2.py3-none-any.whl.metadata (22 kB)\n",
      "Collecting tzdata>=2022.7 (from pandas)\n",
      "  Downloading tzdata-2024.2-py2.py3-none-any.whl.metadata (1.4 kB)\n",
      "Requirement already satisfied: six>=1.5 in /Users/joe_codes/dev/school/nueral_networks/venv/lib/python3.12/site-packages (from python-dateutil>=2.8.2->pandas) (1.16.0)\n",
      "Downloading pandas-2.2.3-cp312-cp312-macosx_11_0_arm64.whl (11.4 MB)\n",
      "\u001b[2K   \u001b[90m━━━━━━━━━━━━━━━━━━━━━━━━━━━━━━━━━━━━━━━━\u001b[0m \u001b[32m11.4/11.4 MB\u001b[0m \u001b[31m8.9 MB/s\u001b[0m eta \u001b[36m0:00:00\u001b[0m00:01\u001b[0m00:01\u001b[0m\n",
      "\u001b[?25hUsing cached pytz-2024.2-py2.py3-none-any.whl (508 kB)\n",
      "Downloading tzdata-2024.2-py2.py3-none-any.whl (346 kB)\n",
      "\u001b[2K   \u001b[90m━━━━━━━━━━━━━━━━━━━━━━━━━━━━━━━━━━━━━━━━\u001b[0m \u001b[32m346.6/346.6 kB\u001b[0m \u001b[31m9.8 MB/s\u001b[0m eta \u001b[36m0:00:00\u001b[0m\n",
      "\u001b[?25hInstalling collected packages: pytz, tzdata, pandas\n",
      "Successfully installed pandas-2.2.3 pytz-2024.2 tzdata-2024.2\n",
      "\n",
      "\u001b[1m[\u001b[0m\u001b[34;49mnotice\u001b[0m\u001b[1;39;49m]\u001b[0m\u001b[39;49m A new release of pip is available: \u001b[0m\u001b[31;49m24.0\u001b[0m\u001b[39;49m -> \u001b[0m\u001b[32;49m24.2\u001b[0m\n",
      "\u001b[1m[\u001b[0m\u001b[34;49mnotice\u001b[0m\u001b[1;39;49m]\u001b[0m\u001b[39;49m To update, run: \u001b[0m\u001b[32;49mpip install --upgrade pip\u001b[0m\n"
     ]
    }
   ],
   "source": [
    "# creating custom dataset\n",
    "!pip3 install pandas\n",
    "import os\n",
    "import pandas as pd\n",
    "from torchvision.io import read_image\n",
    "\n",
    "class CustomImageDataset(Dataset):\n",
    "    def __init__(self, annotations_file, img_dir, transform=None, target_transform=None):\n",
    "        \"\"\"\n",
    "        this method initializes the directory containing the images, the annotations file\n",
    "        \"\"\"\n",
    "        self.img_labels = pd.read_csv(annotations_file)\n",
    "        self.img_dir = img_dir\n",
    "        #  the transform and target_transform are used to transform the image and the label\n",
    "        self.transform = transform\n",
    "        self.target_transform = target_transform\n",
    "\n",
    "    def __len__(self):\n",
    "        return len(self.img_labels)\n",
    "\n",
    "    def __getitem__(self, idx):\n",
    "        \"\"\"\n",
    "        this method loads and returns a sample from the dataset at the given index idx\n",
    "        \n",
    "        \"\"\"\n",
    "        img_path = os.path.join(self.img_dir, self.img_labels.iloc[idx, 0])\n",
    "        image = read_image(img_path)\n",
    "        label = self.img_labels.iloc[idx, 1]\n",
    "        if self.transform:\n",
    "            image = self.transform(image)\n",
    "        if self.target_transform:\n",
    "            label = self.target_transform(label)\n",
    "        return image, label"
   ]
  },
  {
   "cell_type": "code",
   "execution_count": 56,
   "metadata": {},
   "outputs": [
    {
     "name": "stdout",
     "output_type": "stream",
     "text": [
      "<class 'torch.utils.data.dataloader.DataLoader'>\n",
      "938\n"
     ]
    }
   ],
   "source": [
    "# Preparing your data for training with DataLoaders\n",
    "from torch.utils.data import DataLoader\n",
    "\n",
    "train_dataloader = DataLoader(training_data, batch_size=64, shuffle=True)\n",
    "test_dataloader = DataLoader(test_data, batch_size=64, shuffle=True)\n",
    "\n",
    "print(type(train_dataloader))\n",
    "print(len(train_dataloader))"
   ]
  },
  {
   "cell_type": "code",
   "execution_count": 71,
   "metadata": {},
   "outputs": [
    {
     "name": "stdout",
     "output_type": "stream",
     "text": [
      "Feature batch shape: torch.Size([64, 1, 28, 28])\n",
      "Labels batch shape: torch.Size([64])\n"
     ]
    },
    {
     "data": {
      "image/png": "[encoded data removed]",
      "text/plain": [
       "<Figure size 640x480 with 1 Axes>"
      ]
     },
     "metadata": {},
     "output_type": "display_data"
    },
    {
     "name": "stdout",
     "output_type": "stream",
     "text": [
      "Label: Sandal\n"
     ]
    }
   ],
   "source": [
    "# Display image and label.\n",
    "#  get a batch of training data\n",
    "train_features, train_labels = next(iter(train_dataloader))\n",
    "print(f\"Feature batch shape: {train_features.size()}\")\n",
    "print(f\"Labels batch shape: {train_labels.size()}\")\n",
    "img = train_features[0].squeeze()\n",
    "label = train_labels[0]\n",
    "plt.imshow(img, cmap=\"gray\")\n",
    "plt.show()\n",
    "print(f\"Label: {labels_map [label.item()] }\")"
   ]
  },
  {
   "cell_type": "markdown",
   "metadata": {},
   "source": [
    "#### Transforming data\n",
    "\n",
    "All TorchVision datasets have two parameters -`transform` to modify the features and `target_transform` to modify the labels - that accept callables containing the transformation logic. The `torchvision.transforms` module offers several commonly-used transforms out of the box.\n"
   ]
  },
  {
   "cell_type": "code",
   "execution_count": 104,
   "metadata": {},
   "outputs": [],
   "source": [
    "from torchvision.transforms import ToTensor, Lambda\n",
    "import torch\n",
    "from torchvision import datasets\n",
    "\n",
    "ds = datasets.FashionMNIST(\n",
    "    root=\"data\",\n",
    "    train=True,\n",
    "    download=True,\n",
    "    transform=ToTensor(),\n",
    "    target_transform=Lambda(lambda y: torch.zeros(\n",
    "        10, dtype=torch.float).scatter_(0, torch.tensor(y), value=1))\n",
    ")"
   ]
  },
  {
   "cell_type": "markdown",
   "metadata": {},
   "source": [
    "#### Build the Neural Network\n",
    "\n",
    "Neural networks comprise of layers/modules that perform operations on data. The `torch.nn` namespace provides all the building blocks you need to build your own neural network. Every module in PyTorch subclasses the `nn.Module`. A neural network is a module itself that consists of other modules (layers). This nested structure allows for building and managing complex architectures easily.\n"
   ]
  },
  {
   "cell_type": "code",
   "execution_count": 105,
   "metadata": {},
   "outputs": [],
   "source": [
    "import os\n",
    "import torch\n",
    "from torch import nn\n",
    "from torch.utils.data import DataLoader\n",
    "from torchvision import datasets, transforms"
   ]
  },
  {
   "cell_type": "code",
   "execution_count": 109,
   "metadata": {},
   "outputs": [
    {
     "name": "stdout",
     "output_type": "stream",
     "text": [
      "Using mps device\n"
     ]
    }
   ],
   "source": [
    "device = (\n",
    "    \"cuda\"\n",
    "    if torch.cuda.is_available()\n",
    "    else \"mps\"\n",
    "    if torch.backends.mps.is_available()\n",
    "    else \"cpu\"\n",
    ")\n",
    "print(f\"Using {device} device\")"
   ]
  },
  {
   "cell_type": "code",
   "execution_count": 110,
   "metadata": {},
   "outputs": [],
   "source": [
    "class NeuralNetwork(nn.Module):\n",
    "    def __init__(self):\n",
    "        super().__init__()\n",
    "        self.flatten = nn.Flatten()\n",
    "        self.linear_relu_stack = nn.Sequential(\n",
    "            nn.Linear(28*28, 512),\n",
    "            nn.ReLU(),\n",
    "            nn.Linear(512, 512),\n",
    "            nn.ReLU(),\n",
    "            nn.Linear(512, 10),\n",
    "        )\n",
    "\n",
    "    def forward(self, x):\n",
    "        x = self.flatten(x)\n",
    "        logits = self.linear_relu_stack(x)\n",
    "        return logits"
   ]
  },
  {
   "cell_type": "code",
   "execution_count": 122,
   "metadata": {},
   "outputs": [
    {
     "name": "stdout",
     "output_type": "stream",
     "text": [
      "NeuralNetwork(\n",
      "  (flatten): Flatten(start_dim=1, end_dim=-1)\n",
      "  (linear_relu_stack): Sequential(\n",
      "    (0): Linear(in_features=784, out_features=512, bias=True)\n",
      "    (1): ReLU()\n",
      "    (2): Linear(in_features=512, out_features=512, bias=True)\n",
      "    (3): ReLU()\n",
      "    (4): Linear(in_features=512, out_features=10, bias=True)\n",
      "  )\n",
      ")\n"
     ]
    }
   ],
   "source": [
    "model = NeuralNetwork().to(\"cpu\")\n",
    "print(model)"
   ]
  },
  {
   "cell_type": "code",
   "execution_count": 112,
   "metadata": {},
   "outputs": [
    {
     "name": "stdout",
     "output_type": "stream",
     "text": [
      "Predicted class: tensor([6], device='mps:0')\n"
     ]
    }
   ],
   "source": [
    "X = torch.rand(1, 28, 28, device=device)\n",
    "logits = model(X)\n",
    "pred_probab = nn.Softmax(dim=1)(logits)\n",
    "y_pred = pred_probab.argmax(1)\n",
    "print(f\"Predicted class: {y_pred}\")"
   ]
  },
  {
   "cell_type": "code",
   "execution_count": 114,
   "metadata": {},
   "outputs": [
    {
     "name": "stdout",
     "output_type": "stream",
     "text": [
      "Model structure: NeuralNetwork(\n",
      "  (flatten): Flatten(start_dim=1, end_dim=-1)\n",
      "  (linear_relu_stack): Sequential(\n",
      "    (0): Linear(in_features=784, out_features=512, bias=True)\n",
      "    (1): ReLU()\n",
      "    (2): Linear(in_features=512, out_features=512, bias=True)\n",
      "    (3): ReLU()\n",
      "    (4): Linear(in_features=512, out_features=10, bias=True)\n",
      "  )\n",
      ")\n",
      "\n",
      "\n",
      "Layer: linear_relu_stack.0.weight | Size: 401408 \n",
      "\n",
      "Layer: linear_relu_stack.0.bias | Size: 512 \n",
      "\n",
      "Layer: linear_relu_stack.2.weight | Size: 262144 \n",
      "\n",
      "Layer: linear_relu_stack.2.bias | Size: 512 \n",
      "\n",
      "Layer: linear_relu_stack.4.weight | Size: 5120 \n",
      "\n",
      "Layer: linear_relu_stack.4.bias | Size: 10 \n",
      "\n"
     ]
    }
   ],
   "source": [
    "print(f\"Model structure: {model}\\n\\n\")\n",
    "\n",
    "for name, param in model.named_parameters():\n",
    "    print(f\"Layer: {name} | Size: {param.numel()} \\n\")"
   ]
  },
  {
   "cell_type": "markdown",
   "metadata": {},
   "source": [
    "Inside the training loop, optimization happens in three steps:\n",
    "Call `optimizer.zero_grad()` to reset the gradients of model parameters. Gradients by default add up; to prevent double-counting, we explicitly zero them at each iteration.\n",
    "\n",
    "Backpropagate the prediction loss with a call to `loss.backward()`. PyTorch deposits the gradients of the loss w.r.t. each parameter.\n",
    "\n",
    "Once we have our gradients, we call `optimizer.step()` to adjust the parameters by the gradients collected in the backward pass.\n"
   ]
  },
  {
   "cell_type": "code",
   "execution_count": 119,
   "metadata": {},
   "outputs": [],
   "source": [
    "learning_rate = 1e-3\n",
    "batch_size = 64\n",
    "epochs = 5\n",
    "\n",
    "\n",
    "def train_loop(dataloader, model, loss_fn, optimizer):\n",
    "    size = len(dataloader.dataset)\n",
    "    # Set the model to training mode - important for batch normalization and dropout layers\n",
    "    # Unnecessary in this situation but added for best practices\n",
    "    model.train()\n",
    "    for batch, (X, y) in enumerate(dataloader):\n",
    "        # Compute prediction and loss\n",
    "        pred = model(X)\n",
    "        loss = loss_fn(pred, y)\n",
    "\n",
    "        # Backpropagation\n",
    "        loss.backward()\n",
    "        optimizer.step()\n",
    "        optimizer.zero_grad()\n",
    "\n",
    "        if batch % 100 == 0:\n",
    "            loss, current = loss.item(), batch * batch_size + len(X)\n",
    "            print(f\"loss: {loss:>7f}  [{current:>5d}/{size:>5d}]\")\n",
    "\n",
    "\n",
    "def test_loop(dataloader, model, loss_fn):\n",
    "    # Set the model to evaluation mode - important for batch normalization and dropout layers\n",
    "    # Unnecessary in this situation but added for best practices\n",
    "    model.eval()\n",
    "    size = len(dataloader.dataset)\n",
    "    num_batches = len(dataloader)\n",
    "    test_loss, correct = 0, 0\n",
    "\n",
    "    # Evaluating the model with torch.no_grad() ensures that no gradients are computed during test mode\n",
    "    # also serves to reduce unnecessary gradient computations and memory usage for tensors with requires_grad=True\n",
    "    with torch.no_grad():\n",
    "        for X, y in dataloader:\n",
    "            pred = model(X)\n",
    "            test_loss += loss_fn(pred, y).item()\n",
    "            correct += (pred.argmax(1) == y).type(torch.float).sum().item()\n",
    "\n",
    "    test_loss /= num_batches\n",
    "    correct /= size\n",
    "    print(\n",
    "        f\"Test Error: \\n Accuracy: {(100*correct):>0.1f}%, Avg loss: {test_loss:>8f} \\n\")"
   ]
  },
  {
   "cell_type": "code",
   "execution_count": 123,
   "metadata": {},
   "outputs": [
    {
     "name": "stdout",
     "output_type": "stream",
     "text": [
      "Epoch 1\n",
      "-------------------------------\n",
      "loss: 2.312101  [   64/60000]\n",
      "loss: 2.299987  [ 6464/60000]\n",
      "loss: 2.274604  [12864/60000]\n",
      "loss: 2.267011  [19264/60000]\n",
      "loss: 2.247106  [25664/60000]\n",
      "loss: 2.234669  [32064/60000]\n",
      "loss: 2.204845  [38464/60000]\n",
      "loss: 2.200942  [44864/60000]\n",
      "loss: 2.179167  [51264/60000]\n",
      "loss: 2.152550  [57664/60000]\n",
      "Test Error: \n",
      " Accuracy: 52.3%, Avg loss: 2.155486 \n",
      "\n",
      "Epoch 2\n",
      "-------------------------------\n",
      "loss: 2.169969  [   64/60000]\n",
      "loss: 2.130631  [ 6464/60000]\n",
      "loss: 2.124215  [12864/60000]\n",
      "loss: 2.120015  [19264/60000]\n",
      "loss: 2.049975  [25664/60000]\n",
      "loss: 2.019726  [32064/60000]\n",
      "loss: 1.977775  [38464/60000]\n",
      "loss: 1.954052  [44864/60000]\n",
      "loss: 1.889442  [51264/60000]\n",
      "loss: 1.916076  [57664/60000]\n",
      "Test Error: \n",
      " Accuracy: 57.1%, Avg loss: 1.877772 \n",
      "\n",
      "Epoch 3\n",
      "-------------------------------\n",
      "loss: 1.892596  [   64/60000]\n",
      "loss: 1.890685  [ 6464/60000]\n",
      "loss: 1.669374  [12864/60000]\n",
      "loss: 1.804383  [19264/60000]\n",
      "loss: 1.712076  [25664/60000]\n",
      "loss: 1.694307  [32064/60000]\n",
      "loss: 1.636392  [38464/60000]\n",
      "loss: 1.544651  [44864/60000]\n",
      "loss: 1.648725  [51264/60000]\n",
      "loss: 1.577133  [57664/60000]\n",
      "Test Error: \n",
      " Accuracy: 61.0%, Avg loss: 1.506996 \n",
      "\n",
      "Epoch 4\n",
      "-------------------------------\n",
      "loss: 1.475164  [   64/60000]\n",
      "loss: 1.401668  [ 6464/60000]\n",
      "loss: 1.516622  [12864/60000]\n",
      "loss: 1.434681  [19264/60000]\n",
      "loss: 1.299211  [25664/60000]\n",
      "loss: 1.357353  [32064/60000]\n",
      "loss: 1.333760  [38464/60000]\n",
      "loss: 1.231627  [44864/60000]\n",
      "loss: 1.205503  [51264/60000]\n",
      "loss: 1.214867  [57664/60000]\n",
      "Test Error: \n",
      " Accuracy: 63.5%, Avg loss: 1.247478 \n",
      "\n",
      "Epoch 5\n",
      "-------------------------------\n",
      "loss: 1.281919  [   64/60000]\n",
      "loss: 1.233211  [ 6464/60000]\n",
      "loss: 1.262372  [12864/60000]\n",
      "loss: 1.190296  [19264/60000]\n",
      "loss: 1.149638  [25664/60000]\n",
      "loss: 1.187469  [32064/60000]\n",
      "loss: 1.140460  [38464/60000]\n",
      "loss: 1.088005  [44864/60000]\n",
      "loss: 1.034490  [51264/60000]\n",
      "loss: 1.121374  [57664/60000]\n",
      "Test Error: \n",
      " Accuracy: 64.9%, Avg loss: 1.086044 \n",
      "\n",
      "Epoch 6\n",
      "-------------------------------\n",
      "loss: 1.153257  [   64/60000]\n",
      "loss: 1.036922  [ 6464/60000]\n",
      "loss: 0.952310  [12864/60000]\n",
      "loss: 1.004547  [19264/60000]\n",
      "loss: 1.136677  [25664/60000]\n",
      "loss: 0.985843  [32064/60000]\n",
      "loss: 1.038248  [38464/60000]\n",
      "loss: 0.947988  [44864/60000]\n",
      "loss: 0.907782  [51264/60000]\n",
      "loss: 1.004305  [57664/60000]\n",
      "Test Error: \n",
      " Accuracy: 66.3%, Avg loss: 0.980186 \n",
      "\n",
      "Epoch 7\n",
      "-------------------------------\n",
      "loss: 0.972717  [   64/60000]\n",
      "loss: 0.970538  [ 6464/60000]\n",
      "loss: 1.003538  [12864/60000]\n",
      "loss: 0.924383  [19264/60000]\n",
      "loss: 0.934384  [25664/60000]\n",
      "loss: 0.799668  [32064/60000]\n",
      "loss: 0.859857  [38464/60000]\n",
      "loss: 0.934310  [44864/60000]\n",
      "loss: 0.886109  [51264/60000]\n",
      "loss: 0.870555  [57664/60000]\n",
      "Test Error: \n",
      " Accuracy: 66.7%, Avg loss: 0.908608 \n",
      "\n",
      "Epoch 8\n",
      "-------------------------------\n",
      "loss: 0.854111  [   64/60000]\n",
      "loss: 0.940384  [ 6464/60000]\n",
      "loss: 0.739324  [12864/60000]\n",
      "loss: 0.833544  [19264/60000]\n",
      "loss: 0.664062  [25664/60000]\n",
      "loss: 0.954392  [32064/60000]\n",
      "loss: 0.870299  [38464/60000]\n",
      "loss: 0.818915  [44864/60000]\n",
      "loss: 0.697653  [51264/60000]\n",
      "loss: 0.850763  [57664/60000]\n",
      "Test Error: \n",
      " Accuracy: 68.0%, Avg loss: 0.854924 \n",
      "\n",
      "Epoch 9\n",
      "-------------------------------\n",
      "loss: 0.908984  [   64/60000]\n",
      "loss: 0.805206  [ 6464/60000]\n",
      "loss: 0.639255  [12864/60000]\n",
      "loss: 0.835446  [19264/60000]\n",
      "loss: 0.937213  [25664/60000]\n",
      "loss: 0.820432  [32064/60000]\n",
      "loss: 0.716155  [38464/60000]\n",
      "loss: 0.998251  [44864/60000]\n",
      "loss: 0.807467  [51264/60000]\n",
      "loss: 0.806821  [57664/60000]\n",
      "Test Error: \n",
      " Accuracy: 69.3%, Avg loss: 0.815537 \n",
      "\n",
      "Epoch 10\n",
      "-------------------------------\n",
      "loss: 0.709824  [   64/60000]\n",
      "loss: 0.937637  [ 6464/60000]\n",
      "loss: 0.715292  [12864/60000]\n",
      "loss: 0.964858  [19264/60000]\n",
      "loss: 0.733910  [25664/60000]\n",
      "loss: 0.813744  [32064/60000]\n",
      "loss: 0.803765  [38464/60000]\n",
      "loss: 0.851818  [44864/60000]\n",
      "loss: 0.759067  [51264/60000]\n",
      "loss: 0.651622  [57664/60000]\n",
      "Test Error: \n",
      " Accuracy: 70.5%, Avg loss: 0.785860 \n",
      "\n",
      "Done!\n"
     ]
    }
   ],
   "source": [
    "loss_fn = nn.CrossEntropyLoss()\n",
    "optimizer = torch.optim.SGD(model.parameters(), lr=learning_rate)\n",
    "\n",
    "epochs = 10\n",
    "for t in range(epochs):\n",
    "    print(f\"Epoch {t+1}\\n-------------------------------\")\n",
    "    train_loop(train_dataloader, model, loss_fn, optimizer)\n",
    "    test_loop(test_dataloader, model, loss_fn)\n",
    "print(\"Done!\")"
   ]
  },
  {
   "cell_type": "code",
   "execution_count": null,
   "metadata": {},
   "outputs": [],
   "source": []
  }
 ],
 "metadata": {
  "kernelspec": {
   "display_name": "venv",
   "language": "python",
   "name": "python3"
  },
  "language_info": {
   "codemirror_mode": {
    "name": "ipython",
    "version": 3
   },
   "file_extension": ".py",
   "mimetype": "text/x-python",
   "name": "python",
   "nbconvert_exporter": "python",
   "pygments_lexer": "ipython3",
   "version": "3.12.4"
  }
 },
 "nbformat": 4,
 "nbformat_minor": 2
}
