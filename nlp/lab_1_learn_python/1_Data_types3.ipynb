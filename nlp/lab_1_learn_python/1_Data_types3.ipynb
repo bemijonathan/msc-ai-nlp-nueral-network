{
  "cells": [
    {
      "cell_type": "markdown",
      "metadata": {
        "id": "eXrpOjotcrRO"
      },
      "source": [
        "# Welcome to Python!\n",
        "## The origins of Pythoh\n",
        "\n",
        "1. Python was created in the Netherlands as a successor to the ABC language by Guido van Rossum in 1990 when he worked at the Stichting Mathematisch Centrum.\n",
        "\n",
        "2. Since 1995 a growing community continued his work creating many versions of the language.\n",
        "\n",
        "3. In 2001, the Python Software Foundation (PSF), a non-profit organization, was created\n",
        "\n",
        "    3.1 Created to protect Python's freedom as an open source language and continue its development\n",
        "    \n",
        "4. From the British humorist group Monty Python\n",
        "\n",
        "## Key aspects\n",
        "1. Flexible and easy to understand, it is not necessary to specify the type of data in the variables, as it is **dynamically typed**.\n",
        "\n",
        "2. **Multiplatform**: The same Python program can be run on several operating systems (Win, MacOs, Linux and mobile)\n",
        "\n",
        "3. **Multi-implementations**: several implementations in C (CPython) or Java (Jython) allow you to easily communicate with other languages\n",
        "\n",
        "4. **Multiparadigm**: Especially object oriented (all data are objects), but also allows programming in other paradigms (imperative and functional)\n",
        "\n",
        "5. **Interpreted**: Original Python does not generate object code, BUT, lots of lybraries like numpy are C wrappers.\n"
      ]
    },
    {
      "cell_type": "markdown",
      "metadata": {
        "id": "mVqaSXBQTIF2"
      },
      "source": [
        "# Practice 1: Data types\n",
        "The Python native data types are shown below. * Type * and * isinstance * functions will be used to verify the type of data"
      ]
    },
    {
      "cell_type": "markdown",
      "metadata": {
        "id": "H80JPWpzS1k4"
      },
      "source": [
        "## Numerical data type: integers (int)\n",
        "\n",
        "Integers are initialized with numeric literals without a decimal part. The reserved word 'int' is the literal of the integer data type."
      ]
    },
    {
      "cell_type": "code",
      "execution_count": 2,
      "metadata": {
        "colab": {
          "base_uri": "https://localhost:8080/"
        },
        "id": "tx75jq9iTEle",
        "outputId": "a6e54430-4502-458a-b5b9-bc940f05d2d4"
      },
      "outputs": [
        {
          "name": "stdout",
          "output_type": "stream",
          "text": [
            "<class 'int'>\n"
          ]
        }
      ],
      "source": [
        "number = 5\n",
        "typeDataNumber = type (number)\n",
        "\n",
        "print(typeDataNumber)"
      ]
    },
    {
      "cell_type": "markdown",
      "metadata": {
        "id": "c1bsDxoxUFB0"
      },
      "source": [
        "We verify that the data type of the variable 'number', is integer, comparing its type of data, or using the * isinstance * function."
      ]
    },
    {
      "cell_type": "code",
      "execution_count": 3,
      "metadata": {
        "colab": {
          "base_uri": "https://localhost:8080/"
        },
        "id": "RzE_jQ-PUP7r",
        "outputId": "e215d201-fa7c-4100-f2df-07560fd46e38"
      },
      "outputs": [
        {
          "name": "stdout",
          "output_type": "stream",
          "text": [
            "The variable number is integer? True\n",
            "The variable number is integer? True\n"
          ]
        }
      ],
      "source": [
        "#Binary comparison operator ==, compare two variables, and if both are equal, their value is True\n",
        "isInteger = typeDataNumber == int\n",
        "#isinstance receives the variable and the name of the data type as inputs\n",
        "isInteger2 = isinstance (number, int)\n",
        "\n",
        "print (\"The variable number is integer?\", isInteger)\n",
        "print (\"The variable number is integer?\", isInteger2)"
      ]
    },
    {
      "cell_type": "markdown",
      "metadata": {
        "id": "tKG4OfuDeibE"
      },
      "source": [
        "## Numerical data types: Booleans (bool)\n",
        "A data of type Boolean, or Boolean variable can take only two values, True or False."
      ]
    },
    {
      "cell_type": "code",
      "execution_count": null,
      "metadata": {
        "colab": {
          "base_uri": "https://localhost:8080/",
          "height": 52
        },
        "id": "gPOpaOFPexox",
        "outputId": "5e4d3dfe-3688-4693-cf90-5f242916b66c"
      },
      "outputs": [
        {
          "name": "stdout",
          "output_type": "stream",
          "text": [
            "True\n",
            "Is the variable Boolean? True\n"
          ]
        }
      ],
      "source": [
        "booleanVariable = True\n",
        "print (booleanVariable)\n",
        "#we verify the type of data\n",
        "isBoolean = isinstance(booleanVariable, bool)\n",
        "print (\"Is the variable Boolean?\", isBoolean)"
      ]
    },
    {
      "cell_type": "markdown",
      "metadata": {
        "id": "Lub9094xfrgE"
      },
      "source": [
        "Relational operators such as ==,>, <, <=,> =, always result in a Boolean value"
      ]
    },
    {
      "cell_type": "code",
      "execution_count": null,
      "metadata": {
        "colab": {
          "base_uri": "https://localhost:8080/",
          "height": 52
        },
        "id": "Sd7F55pUgF8A",
        "outputId": "0fcc05c6-8bce-436c-dd59-5c15d717815e"
      },
      "outputs": [
        {
          "name": "stdout",
          "output_type": "stream",
          "text": [
            "Content of the variable True\n",
            "Substraction result 0\n"
          ]
        }
      ],
      "source": [
        "booleanOperation1 = 7> 3\n",
        "booleanOperation2 = type (7.0) == int\n",
        "print (\"Content of the variable\", booleanOperation1)\n",
        "variable1 = True\n",
        "variable2 = True\n",
        "substraction = variable1 - variable2\n",
        "print(\"Substraction result\", substraction)"
      ]
    },
    {
      "cell_type": "markdown",
      "metadata": {
        "id": "1z7whAFEg8rF"
      },
      "source": [
        "## Numerical data types: Real numbers (float)\n",
        "Real numbers include a decimal part, making it possible to represent fractions."
      ]
    },
    {
      "cell_type": "code",
      "execution_count": null,
      "metadata": {
        "colab": {
          "base_uri": "https://localhost:8080/",
          "height": 69
        },
        "id": "1FEKHUIphPMA",
        "outputId": "615f00e1-37fa-4652-e8c6-bc66a3805f34"
      },
      "outputs": [
        {
          "name": "stdout",
          "output_type": "stream",
          "text": [
            "realNumber3  0.005\n",
            "Data type  <class 'float'>\n"
          ]
        }
      ],
      "source": [
        "realNumber = 3.4\n",
        "realNumber2 = 3.0 / 5.0\n",
        "\n",
        "\n",
        "realNumber3 = 5e-3\n",
        "\n",
        "print(\"realNumber3 \", realNumber3)\n",
        "print(\"Data type \", type(realNumber3))\n"
      ]
    },
    {
      "cell_type": "markdown",
      "metadata": {
        "id": "gahGKBLFjrnR"
      },
      "source": [
        "When performing an operation with numerical operands of different types, the result will have the most accurate data type."
      ]
    },
    {
      "cell_type": "code",
      "execution_count": 6,
      "metadata": {
        "colab": {
          "base_uri": "https://localhost:8080/"
        },
        "id": "PO8Wxi-PjqcZ",
        "outputId": "cc8312eb-cc84-4605-90fd-4cbcdc64b4d6"
      },
      "outputs": [
        {
          "name": "stdout",
          "output_type": "stream",
          "text": [
            "4.0\n",
            "Result data type:  <class 'float'>\n"
          ]
        }
      ],
      "source": [
        "result = 3.0 + 1\n",
        "print(result)\n",
        "print(\"Result data type: \", type(result))"
      ]
    },
    {
      "cell_type": "markdown",
      "metadata": {
        "id": "hoqaOow4tGsk"
      },
      "source": [
        "###Data conversion\n",
        "To convert a variable to another type of data, the constructor of the data type is invoked, with the name of the data type and the variable to be converted as input."
      ]
    },
    {
      "cell_type": "code",
      "execution_count": 7,
      "metadata": {
        "colab": {
          "base_uri": "https://localhost:8080/",
          "height": 246
        },
        "id": "gw8rvPQUuYXc",
        "outputId": "5aeac2ea-556a-4b79-eef8-70d05997ef01"
      },
      "outputs": [
        {
          "name": "stdout",
          "output_type": "stream",
          "text": [
            "Conversion result 4\n"
          ]
        },
        {
          "ename": "ValueError",
          "evalue": "ignored",
          "output_type": "error",
          "traceback": [
            "\u001b[0;31m---------------------------------------------------------------------------\u001b[0m",
            "\u001b[0;31mValueError\u001b[0m                                Traceback (most recent call last)",
            "\u001b[0;32m<ipython-input-7-68a57e36035f>\u001b[0m in \u001b[0;36m<cell line: 5>\u001b[0;34m()\u001b[0m\n\u001b[1;32m      3\u001b[0m \u001b[0;34m\u001b[0m\u001b[0m\n\u001b[1;32m      4\u001b[0m \u001b[0;31m# truncated test\u001b[0m\u001b[0;34m\u001b[0m\u001b[0;34m\u001b[0m\u001b[0m\n\u001b[0;32m----> 5\u001b[0;31m \u001b[0mresult\u001b[0m \u001b[0;34m=\u001b[0m \u001b[0mint\u001b[0m\u001b[0;34m(\u001b[0m\u001b[0;34m\"hello\"\u001b[0m\u001b[0;34m)\u001b[0m\u001b[0;34m\u001b[0m\u001b[0;34m\u001b[0m\u001b[0m\n\u001b[0m\u001b[1;32m      6\u001b[0m \u001b[0mprint\u001b[0m \u001b[0;34m(\u001b[0m\u001b[0;34m\"Let's see what happens ...\"\u001b[0m\u001b[0;34m,\u001b[0m \u001b[0mresult\u001b[0m\u001b[0;34m)\u001b[0m\u001b[0;34m\u001b[0m\u001b[0;34m\u001b[0m\u001b[0m\n",
            "\u001b[0;31mValueError\u001b[0m: invalid literal for int() with base 10: 'hello'"
          ]
        }
      ],
      "source": [
        "resultInteger = int(result)\n",
        "print (\"Conversion result\", resultInteger)\n",
        "\n",
        "# truncated test\n",
        "result = int(\"hello\")\n",
        "print (\"Let's see what happens ...\", result)\n"
      ]
    },
    {
      "cell_type": "markdown",
      "metadata": {
        "id": "5Qdbbeo6kL2n"
      },
      "source": [
        "## Numerical data type: Complex numbers\n",
        "Complex numbers are composed of a real part, and an imaginary part. The imaginary part is expressed with the suffix 'i'."
      ]
    },
    {
      "cell_type": "code",
      "execution_count": null,
      "metadata": {
        "colab": {
          "base_uri": "https://localhost:8080/",
          "height": 52
        },
        "id": "YJbJBafRkg6b",
        "outputId": "07de95c2-c2fb-4d92-9ef1-639c5132be87"
      },
      "outputs": [
        {
          "name": "stdout",
          "output_type": "stream",
          "text": [
            "(3+5j)\n",
            "Variable type  <class 'complex'>\n"
          ]
        }
      ],
      "source": [
        "complexNumber = 3 + 5j\n",
        "print(complexNumber)\n",
        "complexNumberType = type(complexNumber)\n",
        "print(\"Variable type \", complexNumberType)"
      ]
    },
    {
      "cell_type": "markdown",
      "metadata": {
        "id": "pzfe6f-NmVMA"
      },
      "source": [
        "The square of the imaginary variable $ j = \\ sqrt {-1} $ is $ j2 = - 1 $"
      ]
    },
    {
      "cell_type": "code",
      "execution_count": null,
      "metadata": {
        "colab": {
          "base_uri": "https://localhost:8080/",
          "height": 52
        },
        "id": "ZYfVAcbXm2Xh",
        "outputId": "941f56eb-cf49-40c3-ceeb-1eecf549eb5c"
      },
      "outputs": [
        {
          "name": "stdout",
          "output_type": "stream",
          "text": [
            "j^2 =  (-1+0j)\n",
            "Sum complex and int (12+3j)\n"
          ]
        }
      ],
      "source": [
        "squaredImaginary = (1j) ** 2\n",
        "print(\"j^2 = \", squaredImaginary)\n",
        "\n",
        "################\n",
        "complexVariableA = 6 + 3j\n",
        "sumComplexInt = 6 + complexVariableA\n",
        "print(\"Sum complex and int\", sumComplexInt)\n",
        "\n",
        "\n",
        "\n"
      ]
    },
    {
      "cell_type": "markdown",
      "metadata": {
        "id": "cQquLTNjp55G"
      },
      "source": [
        "## Immutable sequences: Rows (Strings or str)\n",
        "The immutable sequences correspond to series or sequences of values, which cannot be modified.\n",
        "A string represents a sequence of characters, represented with the ASCII standard\n"
      ]
    },
    {
      "cell_type": "code",
      "execution_count": null,
      "metadata": {
        "colab": {
          "base_uri": "https://localhost:8080/",
          "height": 269
        },
        "id": "DHxM3MEmqW6d",
        "outputId": "81ccff88-5604-44ef-9b9f-f2153fb6daf7"
      },
      "outputs": [
        {
          "name": "stdout",
          "output_type": "stream",
          "text": [
            "Sample word  hola\n",
            "Is a string?  True\n",
            "First character:  a\n",
            "Length word  4\n"
          ]
        },
        {
          "ename": "TypeError",
          "evalue": "'str' object does not support item assignment",
          "output_type": "error",
          "traceback": [
            "\u001b[1;31m---------------------------------------------------------------------------\u001b[0m",
            "\u001b[1;31mTypeError\u001b[0m                                 Traceback (most recent call last)",
            "\u001b[1;32m<ipython-input-11-e71bc70394b3>\u001b[0m in \u001b[0;36m<module>\u001b[1;34m()\u001b[0m\n\u001b[0;32m     16\u001b[0m \u001b[0mprint\u001b[0m\u001b[1;33m(\u001b[0m\u001b[1;34m\"Length word \"\u001b[0m\u001b[1;33m,\u001b[0m \u001b[0mlengthString\u001b[0m\u001b[1;33m)\u001b[0m\u001b[1;33m\u001b[0m\u001b[0m\n\u001b[0;32m     17\u001b[0m \u001b[1;31m#Lets try to modify the string...\u001b[0m\u001b[1;33m\u001b[0m\u001b[1;33m\u001b[0m\u001b[0m\n\u001b[1;32m---> 18\u001b[1;33m \u001b[0mword\u001b[0m\u001b[1;33m[\u001b[0m\u001b[1;36m0\u001b[0m\u001b[1;33m]\u001b[0m \u001b[1;33m=\u001b[0m \u001b[1;34m\"c\"\u001b[0m\u001b[1;33m\u001b[0m\u001b[0m\n\u001b[0m",
            "\u001b[1;31mTypeError\u001b[0m: 'str' object does not support item assignment"
          ]
        }
      ],
      "source": [
        "word = \"hola\"\n",
        "word2 = 'casa'\n",
        "\n",
        "\n",
        "print('Sample word ', word)\n",
        "\n",
        "\n",
        "wordDataType = type(word)\n",
        "isString = wordDataType == str\n",
        "print(\"Is a string? \", isString)\n",
        "#the fourth character\n",
        "firstCharacter = word[3]\n",
        "\n",
        "print(\"First character: \", firstCharacter)\n",
        "\n",
        "lengthString = len(word)\n",
        "print(\"Length word \", lengthString)\n",
        "#Lets try to modify the string...\n",
        "word[0] = \"c\"\n",
        "\n"
      ]
    },
    {
      "cell_type": "markdown",
      "metadata": {
        "id": "chP7z4TqwJzR"
      },
      "source": [
        "## Immutable sequences: Tuples\n",
        "Tuples are sequences of values with any type of data. They are immutable.\n"
      ]
    },
    {
      "cell_type": "code",
      "execution_count": null,
      "metadata": {
        "colab": {
          "base_uri": "https://localhost:8080/"
        },
        "id": "9LylFMRMwXnv",
        "outputId": "b004e72b-a98c-436e-d1e7-c84ccfb8e0a6"
      },
      "outputs": [
        {
          "name": "stdout",
          "output_type": "stream",
          "text": [
            "Complex tuple ((1+1j), (3+4j), 1j)\n",
            "third element of the tuple 1j\n",
            "Tuple of tuples ((1, 2, 3), ((1+1j), 58.9))\n",
            "Second element of the second tuple 58.9\n"
          ]
        }
      ],
      "source": [
        "#Tuple of integers\n",
        "tupleIntegers = (1, 3, 4)\n",
        "#tuple of complex numbers\n",
        "tupleComplex = (1 + 1j, 3 + 4j, 0 + 1j)\n",
        "print (\"Complex tuple\", tupleComplex)\n",
        "print (\"third element of the tuple\", tupleComplex [2])\n",
        "#tuple tuple\n",
        "tupleOfTuples = ((1, 2, 3), (1 + 1j, 58.9))\n",
        "print (\"Tuple of tuples\", tupleOfTuples)\n",
        "# consult the second element of the second tuple in the tuple\n",
        "print (\"Second element of the second tuple\", tupleOfTuples [1] [1])\n",
        "\n",
        "\n",
        "\n"
      ]
    },
    {
      "cell_type": "markdown",
      "metadata": {
        "id": "iSY_NJeN9jHJ"
      },
      "source": [
        "## Immutable sequences: Byte array (b)\n",
        "Byte arrays are byte sequences (8 bits, integer values from 0 to 255). The byte array defined with * b * before the row, uses the ASCII scheme, and is not modifiable.\n"
      ]
    },
    {
      "cell_type": "code",
      "execution_count": null,
      "metadata": {
        "colab": {
          "base_uri": "https://localhost:8080/"
        },
        "id": "nDJULSop-LDj",
        "outputId": "3fee2067-a6d8-4fb6-d0e9-71d19baa4e85"
      },
      "outputs": [
        {
          "name": "stdout",
          "output_type": "stream",
          "text": [
            "b'abc'\n",
            "3\n",
            "Primer elemento del arreglo de bytes 97\n"
          ]
        }
      ],
      "source": [
        "\n",
        "inmutableByteArray = b'abc'\n",
        "print(inmutableByteArray)\n",
        "print(len(inmutableByteArray))\n",
        "\n",
        "print(\"Primer elemento del arreglo de bytes\", inmutableByteArray[0])#ASCII code for a"
      ]
    },
    {
      "cell_type": "markdown",
      "metadata": {
        "id": "8yBO77cFAgSn"
      },
      "source": [
        "## Mutable sequences: Mutable byte array (bytearray)"
      ]
    },
    {
      "cell_type": "markdown",
      "metadata": {
        "id": "tX8COevl_0mL"
      },
      "source": [
        "The data type * bytearray * is a mutable byte array.\n",
        "\n"
      ]
    },
    {
      "cell_type": "code",
      "execution_count": null,
      "metadata": {
        "colab": {
          "base_uri": "https://localhost:8080/"
        },
        "id": "wovI2eH3AyIe",
        "outputId": "696ce9cf-8dd3-4476-cad3-9612f110f8ba"
      },
      "outputs": [
        {
          "name": "stdout",
          "output_type": "stream",
          "text": [
            "Modifiable Byte Arrangement bytearray(b'hello')\n",
            "Ascii encoding of the first letter of the second byte array 104\n",
            "Modified Byte Array bytearray(b'aello')\n"
          ]
        }
      ],
      "source": [
        "# two parameters or arguments are defined, the row and the type of coding\n",
        "byteArray2 = bytearray (\"hello\", 'ascii')\n",
        "print (\"Modifiable Byte Arrangement\", byteArray2)\n",
        "print (\"Ascii encoding of the first letter of the second byte array\", byteArray2[0])\n",
        "byteArray2[0] = 97\n",
        "print (\"Modified Byte Array\", byteArray2)\n"
      ]
    },
    {
      "cell_type": "markdown",
      "metadata": {
        "id": "-Sz5tAFRB5il"
      },
      "source": [
        "# Mutable sequences: List\n",
        "A list is a sequence of objects of any type, and is modifiable. Lists are indexable like tuples, with values from 0 to $ n-1 $, where $ n $ is the length of the list."
      ]
    },
    {
      "cell_type": "code",
      "execution_count": null,
      "metadata": {
        "colab": {
          "base_uri": "https://localhost:8080/"
        },
        "id": "u3XMRgvKFDvn",
        "outputId": "8de98539-0d38-4a89-a2a1-d95990640382"
      },
      "outputs": [
        {
          "name": "stdout",
          "output_type": "stream",
          "text": [
            "List: [10, 2, 4, 5]\n",
            "List 2: [1, 3, 4]\n",
            "Value of the fourth element 5\n",
            "First element: [2, 3.5]\n",
            "List of characters ['c', 'e', 'l', 'l', 'o']\n",
            "New string  cell\n"
          ]
        }
      ],
      "source": [
        "list1 = [10, 2, 4, 5]\n",
        "print (\"List:\", list1)\n",
        "#conversion of a tuple to a list\n",
        "tupleIntegers = (1, 3, 4)\n",
        "list2 = list (tupleIntegers)\n",
        "print (\"List 2:\", list2)\n",
        "\n",
        "print (\"Value of the fourth element\", list1 [3])\n",
        "\n",
        "\n",
        "#list of lists and tuples\n",
        "listOfListsAndTuples = [(2, 3.5), [\"hello\", \"name\"], (1, 3)]\n",
        "\n",
        "listOfListsAndTuples [0] = list (listOfListsAndTuples [0])\n",
        "\n",
        "print (\"First element:\", listOfListsAndTuples [0])\n",
        "\n",
        "# Row to character list\n",
        "list4 = list (\"hello\")\n",
        "list4 [0] = \"c\"\n",
        "print (\"List of characters\", list4)\n",
        "# the row is built from the list\n",
        "\n",
        "\n",
        "\n",
        "string = str (list4 [0] + list4 [1] + list4 [2] + list4 [3])\n",
        "print (\"New string \", string)\n"
      ]
    },
    {
      "cell_type": "markdown",
      "metadata": {
        "id": "k4MaacSQI5n7"
      },
      "source": [
        "## Mutable sets\n",
        "Sets are \"bags\" of objects, where each object is unique, unordered and not indexable.\n"
      ]
    },
    {
      "cell_type": "code",
      "execution_count": 8,
      "metadata": {
        "colab": {
          "base_uri": "https://localhost:8080/"
        },
        "id": "IGeOwOGHJE4I",
        "outputId": "5cddb95b-d561-42f0-fb5b-941370b8056b"
      },
      "outputs": [
        {
          "name": "stdout",
          "output_type": "stream",
          "text": [
            "Fruit Set {'orange', 'watermelon', 'lemon'}\n",
            "Intersection {'lemon'}\n",
            "Modified Intersection set()\n",
            "Set with added element {'apple'}\n"
          ]
        }
      ],
      "source": [
        "\n",
        "setFruits = {\"orange\", \"orange\", \"lemon\", \"watermelon\"}\n",
        "print (\"Fruit Set\", setFruits)\n",
        "setFruits2 = {\"lemon\", \"melon\", \"papaya\"}\n",
        "#It is called the intersection function to calculate the intersection of two sets\n",
        "setIntersection = setFruits.intersection (setFruits2)\n",
        "print (\"Intersection\", setIntersection)\n",
        "#lemon element removed from intersection set\n",
        "setIntersection.remove (\"lemon\")\n",
        "print (\"Modified Intersection\", setIntersection)\n",
        "setIntersection.add (\"apple\")\n",
        "print (\"Set with added element\", setIntersection)"
      ]
    },
    {
      "cell_type": "markdown",
      "metadata": {
        "id": "aLHh93LrVvaN"
      },
      "source": [
        "## Immutable sets\n",
        "\n",
        "In python they refer to the name frozenset"
      ]
    },
    {
      "cell_type": "code",
      "execution_count": null,
      "metadata": {
        "colab": {
          "base_uri": "https://localhost:8080/",
          "height": 34
        },
        "id": "Ijyx6iowV1-r",
        "outputId": "fc5df062-8a87-4b4b-dc99-7257ebd0855e"
      },
      "outputs": [
        {
          "name": "stdout",
          "output_type": "stream",
          "text": [
            "frozenset({1, 2, 4})\n"
          ]
        }
      ],
      "source": [
        "frozenSet1 = frozenset({1, 2, 4})\n",
        "print(frozenSet1)\n",
        "#not possible\n",
        "#frozenSet1.add(4)"
      ]
    },
    {
      "cell_type": "markdown",
      "metadata": {
        "id": "RHEGkelGV0L4"
      },
      "source": [
        "## Dictionaries\n",
        "The diccinaries are a set of ordered pairs, where the first element is referred to as a key, and the second, the value corresponding to that key."
      ]
    },
    {
      "cell_type": "code",
      "execution_count": null,
      "metadata": {
        "colab": {
          "base_uri": "https://localhost:8080/",
          "height": 69
        },
        "id": "UNUTlcSLWp_3",
        "outputId": "66a00be4-d4ee-48ae-effe-331ba669cc45"
      },
      "outputs": [
        {
          "name": "stdout",
          "output_type": "stream",
          "text": [
            "Full dictionary {'Television': [50, 'Sony', 3], 'Cellular': [300, 'Samsung', 20], 'Refrigerator': [1500, 'LG', 7]}\n",
            "Number of available refrigerators 7\n",
            "Modified article information {'Television': [500, 'LG', 20], 'Cellular': [300, 'Samsung', 20], 'Refrigerator': [1500, 'LG', 7]}\n"
          ]
        }
      ],
      "source": [
        "assetInformation = {\"Television\": [50, \"Sony\", 3], \"Cellular\": [300, \"Samsung\", 20], \"Refrigerator\": [1500, \"LG\", 7]}\n",
        "print (\"Full dictionary\", assetInformation)\n",
        "print (\"Number of available refrigerators\", assetInformation [\"Refrigerator\"] [2])\n",
        "assetInformation [\"Television\"] = [500, \"LG\", 20]\n",
        "print (\"Modified article information\", assetInformation)\n"
      ]
    },
    {
      "cell_type": "markdown",
      "metadata": {
        "id": "YDkdNdW0K88e"
      },
      "source": [
        "##Practice\n",
        "\n",
        "\n",
        "1. Perform the operation $ 5 + 8 \\times 10 ^ - 3 $, and display the result on the screen as a complex number.\n",
        "2. Perform the operation in complex numbers \"(5 + 3j) - (3 + 7j)\", and display the result on the screen of the real part only.\n",
        "3. Perform the True + True operation, and display the result with a real number.\n",
        "4. Create a tuple type variable, for the word \"wall\", display it on the screen, and change the necessary letters to change the word to \"wolf\".\n",
        "5. Create a list of complex numbers (5 + 3j), (3 + 7j), (8 + 3j), and add them all. Show the result on screen.\n",
        "6. Create a string with the content \"hello\", and modify the first two characters, adding the value of 10 to your ASCII code. Show the result on screen.\n",
        "7. Create a list of lists, to store the data in the following table:\n",
        "\n",
        "| Basket Number | Fruits |\n",
        "| ------------------- | ----------------- |\n",
        "| 121 | Orange Banana |\n",
        "| 452 | Watermelon, papaya |\n",
        "| 320 | Melon, mango |\n",
        "| 455 | Pineapple, grape |\n",
        "\n",
        "8. Create a dictionary of dictionaries, to represent the contents of the following table:\n",
        "\n",
        "| House | Features |\n",
        "| ------ | ---------------------- |\n",
        "| 121 | 2 rooms, 2 garages |\n",
        "| 452 | 3 rooms, 1 garage |\n",
        "| 320 | 4 rooms, 4 garages |\n",
        "| 455 | 4 rooms, 2 garages |\n",
        "\n",
        "So, for example, to check the number of rooms in house 121, do the following: *dictionary[121][\"rooms\"]*\n",
        "\n",
        "9. Create a dictionary with the Portuguese translations of the words: hello, me, you, they, she, he, I am, are, is, home, live, live, live, in, a, city, town. Also create a list of strings with the following sentence (with one string per word): \"I live in a city\", and use the built dictionary to create a new list of rows with the Portuguese translation.\n",
        "\n",
        "\n",
        "\n",
        "\n",
        "\n",
        "\n"
      ]
    },
    {
      "cell_type": "code",
      "execution_count": 2,
      "metadata": {
        "id": "IbpAJB6ncrRq"
      },
      "outputs": [
        {
          "name": "stdout",
          "output_type": "stream",
          "text": [
            "Houses {121: {'roooms': 3, 'garages': 2}, 452: {'roooms': 3, 'garages': 1}, 320: {'roooms': 4, 'garages': 4}, 455: {'roooms': 4, 'garages': 2}}\n"
          ]
        }
      ],
      "source": [
        "houses = {\n",
        "    121:{\n",
        "        \"roooms\":  2,\n",
        "        \"garages\": 2\n",
        "    },\n",
        "    452:{\n",
        "        \"roooms\":  3,\n",
        "        \"garages\": 1\n",
        "    },\n",
        "    320: {\n",
        "        \"roooms\":  4,\n",
        "        \"garages\": 4\n",
        "    },\n",
        "    455: {\n",
        "        \"roooms\":  4,\n",
        "        \"garages\": 2\n",
        "    },\n",
        "}\n",
        "\n",
        "print(\"Houses\", houses)"
      ]
    },
    {
      "cell_type": "code",
      "execution_count": 14,
      "metadata": {},
      "outputs": [
        {
          "name": "stdout",
          "output_type": "stream",
          "text": [
            "eu viver em um cidade "
          ]
        }
      ],
      "source": [
        "portuguese_english_translation = { \n",
        "    \"hello\":\"olá\",\n",
        "    \"me\": \"mim\",\n",
        "    \"you\": \"tu\",\n",
        "    \"they\": \"eles\",\n",
        "    \"she\": \"ela\",\n",
        "    \"he\": \"ele\",\n",
        "    \"I\": \"eu\",\n",
        "    \"are\": \"são\",\n",
        "    \"is\": \"está\",\n",
        "    \"home\" : \"casa\",\n",
        "    \"live\" : \"viver\",\n",
        "    \"in\":\"em\",\n",
        "    \"a\": \"um\",\n",
        "    \"city\" : \"cidade\",\n",
        "    \"town\" : \"cidade pequena\"\n",
        "}\n",
        "\n",
        "cities = \"I live in a city\".split(\" \")\n",
        "for x in cities:\n",
        "    print(portuguese_english_translation[x], end=\" \")\n"
      ]
    },
    {
      "cell_type": "code",
      "execution_count": null,
      "metadata": {},
      "outputs": [],
      "source": []
    },
    {
      "cell_type": "code",
      "execution_count": null,
      "metadata": {},
      "outputs": [],
      "source": []
    }
  ],
  "metadata": {
    "colab": {
      "provenance": []
    },
    "kernelspec": {
      "display_name": "Python 3",
      "language": "python",
      "name": "python3"
    },
    "language_info": {
      "codemirror_mode": {
        "name": "ipython",
        "version": 3
      },
      "file_extension": ".py",
      "mimetype": "text/x-python",
      "name": "python",
      "nbconvert_exporter": "python",
      "pygments_lexer": "ipython3",
      "version": "3.11.6"
    }
  },
  "nbformat": 4,
  "nbformat_minor": 0
}
