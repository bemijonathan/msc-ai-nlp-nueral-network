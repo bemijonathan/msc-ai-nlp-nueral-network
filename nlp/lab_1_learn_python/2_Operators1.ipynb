{
  "nbformat": 4,
  "nbformat_minor": 0,
  "metadata": {
    "colab": {
      "name": "2_Operators(1).ipynb",
      "provenance": []
    },
    "kernelspec": {
      "display_name": "Python 3",
      "language": "python",
      "name": "python3"
    },
    "language_info": {
      "codemirror_mode": {
        "name": "ipython",
        "version": 3
      },
      "file_extension": ".py",
      "mimetype": "text/x-python",
      "name": "python",
      "nbconvert_exporter": "python",
      "pygments_lexer": "ipython3",
      "version": "3.6.5"
    }
  },
  "cells": [
    {
      "cell_type": "markdown",
      "metadata": {
        "id": "HBoG-09FwSYT"
      },
      "source": [
        "#Operators and basic functions in Python\n",
        "The operators and native functions in Python allow you to transform the data, with different purposes, to build an ** expression ** which combines literals, variables and operators, respecting the Python syntax rules.\n",
        "\n",
        "## Numerical operators\n",
        "They work with any type of numerical data (real, complex or integer).\n",
        "\n",
        "## Arithmetic operators\n",
        "\n",
        "**Addition and subtraction**: Order of precedence 1."
      ]
    },
    {
      "cell_type": "code",
      "metadata": {
        "id": "RkZoERmMwTKb",
        "colab": {
          "base_uri": "https://localhost:8080/",
          "height": 70
        },
        "outputId": "33a6b155-0817-4128-a059-176cc9347f23"
      },
      "source": [
        "a = 5\n",
        "b = 3.3\n",
        "# What is the type of data resulting from the sum?\n",
        "additionResult = a + b\n",
        "print (\"Sum result\", additionResult)\n",
        "print (\"Data type of the variable sum\", type (additionResult))\n",
        "\n",
        "# for a unit increment of one variable the following variants can be used\n",
        "a = a + 1\n",
        "# o\n",
        "a += 1\n",
        "print (\"Two increments of a\", a)\n",
        "\n"
      ],
      "execution_count": null,
      "outputs": [
        {
          "output_type": "stream",
          "text": [
            "Sum result 8.3\n",
            "Data type of the variable sum <class 'float'>\n",
            "Two increments of a 7\n"
          ],
          "name": "stdout"
        }
      ]
    },
    {
      "cell_type": "markdown",
      "metadata": {
        "id": "sR7Bf6LE79CV"
      },
      "source": [
        "**Unary arithmetic operators**: Unary operators are defined with a single operand. "
      ]
    },
    {
      "cell_type": "code",
      "metadata": {
        "id": "ZYf5Oz1P8XbR",
        "colab": {
          "base_uri": "https://localhost:8080/",
          "height": 34
        },
        "outputId": "e7bc1e3c-e413-496b-a055-f844b1524922"
      },
      "source": [
        "a = -3\n",
        "b = -a\n",
        "print(\"b =\", b)"
      ],
      "execution_count": null,
      "outputs": [
        {
          "output_type": "stream",
          "text": [
            "b = 3\n"
          ],
          "name": "stdout"
        }
      ]
    },
    {
      "cell_type": "markdown",
      "metadata": {
        "id": "sYOfb61lxuTw"
      },
      "source": [
        "**Division and multiplication**\n",
        "Division and multiplication have precedence order 2."
      ]
    },
    {
      "cell_type": "code",
      "metadata": {
        "id": "uUXtaxInx2_P",
        "colab": {
          "base_uri": "https://localhost:8080/",
          "height": 52
        },
        "outputId": "02b8d03e-bb73-4d35-e7e6-76d88dcdfe6c"
      },
      "source": [
        "division = (5.0 + 4.0) / 2.0\n",
        "print (\"Result of division:\", division)\n",
        "# What is the resulting data type?\n",
        "\n",
        "divisionAndMul = 5 + 4 + 8/2 * 3\n",
        "print (\"Division and multiplication result\", divisionAndMul)\n"
      ],
      "execution_count": null,
      "outputs": [
        {
          "output_type": "stream",
          "text": [
            "Result of division: 4.5\n",
            "Division and multiplication result 21.0\n"
          ],
          "name": "stdout"
        }
      ]
    },
    {
      "cell_type": "markdown",
      "metadata": {
        "id": "5gaTNiKIyk7W"
      },
      "source": [
        "**Integer division, residue and power**: \n",
        "Order of precedence 2. The entire division truncates the result, discarding the non-integer part, within the integer result.\n"
      ]
    },
    {
      "cell_type": "code",
      "metadata": {
        "id": "anQlRHmUy5ZV",
        "colab": {
          "base_uri": "https://localhost:8080/",
          "height": 121
        },
        "outputId": "c57e1b18-ad48-48ee-afb7-5ab3c9a8a59b"
      },
      "source": [
        "integerDivision = 5 // 2\n",
        "# What is the resulting data type?\n",
        "print (\"Result entire division\", integerDivision)\n",
        "#alternative way\n",
        "integerDivision = int (5/2)\n",
        "print (\"Alternate integer division result\", integerDivision)\n",
        "#Residue\n",
        "residual = 13% 5\n",
        "print (\"Residue result:\", residual)\n",
        "newResidual = 13.3% 5\n",
        "\n",
        "roundingResult = round(newResidual, 2)\n",
        "\n",
        "print (\"Rounding result\", roundingResult)\n",
        "\n",
        "\n",
        "print (\"Result of new waste:\", roundingResult)\n",
        "#Power\n",
        "power = 3 ** 5.0\n",
        "print (\"Power result:\", power)"
      ],
      "execution_count": null,
      "outputs": [
        {
          "output_type": "stream",
          "text": [
            "Result entire division 2\n",
            "Alternate integer division result 2\n",
            "Residue result: 3\n",
            "Rounding result 3.3\n",
            "Result of new waste: 3.3\n",
            "Power result: 243.0\n"
          ],
          "name": "stdout"
        }
      ]
    },
    {
      "cell_type": "code",
      "metadata": {
        "colab": {
          "base_uri": "https://localhost:8080/"
        },
        "id": "MpnmqTZYrhdG",
        "outputId": "93ef104f-4616-4549-c8f4-f0dc09aba3e7"
      },
      "source": [
        "ii=5//2\n",
        "print(ii)\n"
      ],
      "execution_count": 2,
      "outputs": [
        {
          "output_type": "stream",
          "name": "stdout",
          "text": [
            "2\n"
          ]
        }
      ]
    },
    {
      "cell_type": "markdown",
      "metadata": {
        "id": "_4FmhWb88vDY"
      },
      "source": [
        "## Basic arithmetic functions and methods\n",
        "Native mathematical functions in Python  can be used without importing external libraries"
      ]
    },
    {
      "cell_type": "code",
      "metadata": {
        "id": "UAlNrIvy85e4",
        "colab": {
          "base_uri": "https://localhost:8080/",
          "height": 52
        },
        "outputId": "96af1f91-6882-42e9-a5a1-7022786907c1"
      },
      "source": [
        "# Absolute value calculation\n",
        "absResult = abs (-26.3)\n",
        "print (\"Absolute result:\", absResult)\n",
        "# rounding to the nearest ten\n",
        "#The second parameter indicates the number of decimals to respect in the rounding\n",
        "roundResult = round (2.76, 2)\n",
        "print (\"Rounding\", roundResult)\n",
        "\n"
      ],
      "execution_count": null,
      "outputs": [
        {
          "output_type": "stream",
          "text": [
            "Absolute result: 26.3\n",
            "Rounding 2.76\n"
          ],
          "name": "stdout"
        }
      ]
    },
    {
      "cell_type": "markdown",
      "metadata": {
        "id": "7B7uJJi8HYLh"
      },
      "source": [
        "**Object properties**  The properties or attributes of the objects are accessed with the name of the object variable as a prefix, with the name of the property right after it."
      ]
    },
    {
      "cell_type": "code",
      "metadata": {
        "id": "QhDbyqF-K0E6",
        "colab": {
          "base_uri": "https://localhost:8080/",
          "height": 51
        },
        "outputId": "31542707-cdde-46b9-c9cb-2c1669b3dd0a"
      },
      "source": [
        " \n",
        "  \n",
        "# Initializing real numbers \n",
        "a = 1\n",
        "b = 23\n",
        "  \n",
        "# converting x and y into complex number \n",
        "z = complex(x,y);\n",
        "print(\"Real part of the number \", z.real)\n",
        "print(\"Imaginary  part of the number \", z.imag)"
      ],
      "execution_count": null,
      "outputs": [
        {
          "output_type": "stream",
          "text": [
            "Real part of the number  5.0\n",
            "Imaginary  part of the number  3.0\n"
          ],
          "name": "stdout"
        }
      ]
    },
    {
      "cell_type": "markdown",
      "metadata": {
        "id": "AVAo8Xdb_2kx"
      },
      "source": [
        "## Library importing\n",
        "\n",
        "Methods available on imported objects, such as the * math * library.\n",
        "There are ** four ways to import libraries **:\n",
        "\n",
        "1. Imported directly from the library: import math\n",
        "2. Imported with alias: import math as m\n",
        "3. Importing a specific function: from math import sqrt\n",
        "4. Imported complete: (It can cause conflicts in the names of the imported functions): from math import *"
      ]
    },
    {
      "cell_type": "code",
      "metadata": {
        "id": "jSq4fTue__Lp",
        "colab": {
          "base_uri": "https://localhost:8080/",
          "height": 70
        },
        "outputId": "b18bee31-54d1-4265-8621-669614b4c6fd"
      },
      "source": [
        "from math import *\n",
        "# Calculation of the square root\n",
        "squaredRoot = sqrt(16)\n",
        "print (\"Calculation of the square root\", squaredRoot)\n",
        "# What is the resulting data type?\n",
        "#exponent base e (2.7182)\n",
        "powerOfE = exp(1)\n",
        "print (\"Power of e:\", powerOfE)\n",
        "# truncated to the integer resulting from discarding the non-integer part\n",
        "truncatedNumber = trunc(2.365)\n",
        "print (\"Truncated Number\", truncatedNumber)\n"
      ],
      "execution_count": null,
      "outputs": [
        {
          "output_type": "stream",
          "text": [
            "Calculation of the square root 4.0\n",
            "Power of e: 2.718281828459045\n",
            "Truncated Number 2\n"
          ],
          "name": "stdout"
        }
      ]
    },
    {
      "cell_type": "markdown",
      "metadata": {
        "id": "BIL1CWS0IhPU"
      },
      "source": [
        "**Enter a number**\n",
        "use *input* to ask user to enter a number. \n"
      ]
    },
    {
      "cell_type": "code",
      "metadata": {
        "id": "DfuEKc_fItRv",
        "colab": {
          "base_uri": "https://localhost:8080/"
        },
        "outputId": "6de7288f-64be-44d5-9c9c-2f2c6dc30969"
      },
      "source": [
        "print(\"Enter a number\")\n",
        "a = input()\n",
        "print(\"You have entered: \", a )\n",
        "#cual es el tipo de datos?\n",
        "aEntero = int(a)\n",
        "print(aEntero + 3)"
      ],
      "execution_count": 5,
      "outputs": [
        {
          "output_type": "stream",
          "name": "stdout",
          "text": [
            "Enter a number\n",
            "2\n",
            "You have entered:  2\n",
            "5\n"
          ]
        }
      ]
    },
    {
      "cell_type": "markdown",
      "metadata": {
        "id": "ICi4BppLELsb"
      },
      "source": [
        "## Relations and logical operators\n",
        "The relationship and logical operators result in Boolean values *True* or *False*.\n",
        "\n",
        "**Relational operators** like>, <,> =, <=,! =, ==, are binary operators."
      ]
    },
    {
      "cell_type": "code",
      "metadata": {
        "id": "KqmGgLasEgYg",
        "colab": {
          "base_uri": "https://localhost:8080/",
          "height": 52
        },
        "outputId": "60975527-3f7d-4a41-94a3-d055d26f5c8b"
      },
      "source": [
        "# Strictly higher \n",
        "comparison1 = 55.3> 98\n",
        "\n",
        "tolerance = 0.00001\n",
        "\n",
        "#the waste is computed\n",
        "a = 13.3% 5\n",
        "\n",
        "#The comparison is made\n",
        "comparison2 = (3.3 - a) <= tolerance\n",
        "\n",
        "\n",
        "\n",
        "#It is important to remember that comparisons of non-integer numbers may not be correct\n",
        "print (\"Comparison result2\", comparison2)\n",
        "\n",
        "#different\n",
        "isDifferent = a!= 3.3\n",
        "print (\"It's different:\", isDifferent)\n",
        "\n"
      ],
      "execution_count": null,
      "outputs": [
        {
          "output_type": "stream",
          "text": [
            "Comparison result2 True\n",
            "It's different: True\n"
          ],
          "name": "stdout"
        }
      ]
    },
    {
      "cell_type": "markdown",
      "metadata": {
        "id": "QtHxDpPDJyMR"
      },
      "source": [
        "**Logical operators**\n",
        "The binary logical operators available in Python are * and * and * or *.\n",
        "\n",
        "The unary operator * not * calculates the negation of its only operand.\n",
        "The *and* operator has an order of precedence greater than or, so it is recommended to always use parentheses.\n",
        "\n"
      ]
    },
    {
      "cell_type": "code",
      "metadata": {
        "id": "q9ptsdQbKFyE",
        "colab": {
          "base_uri": "https://localhost:8080/",
          "height": 52
        },
        "outputId": "e7ebf957-8a8c-4890-f6aa-21596798eec9"
      },
      "source": [
        "#Real table for the or\n",
        "#initialize the list\n",
        "truthTableOr = [0, 0, 0, 0]\n",
        "truthTableOr [0] = False or False\n",
        "truthTableOr [1] = False or True\n",
        "truthTableOr [2] = True or False\n",
        "truthTableOr [3] = True or True\n",
        "print (\"Truth table for the OR:\", truthTableOr)\n",
        "# And truth table\n",
        "truthTableAnd = [0, 0, 0, 0]\n",
        "truthTableAnd [0] = False and False\n",
        "truthTableAnd [1] = False and True\n",
        "truthTableAnd [2] = True and False\n",
        "truthTableAnd [3] = True and True\n",
        "print (\"Truth table for AND:\", truthTableAnd)\n",
        "\n"
      ],
      "execution_count": null,
      "outputs": [
        {
          "output_type": "stream",
          "text": [
            "Truth table for the OR: [False, True, True, True]\n",
            "Truth table for AND: [False, False, False, True]\n"
          ],
          "name": "stdout"
        }
      ]
    },
    {
      "cell_type": "markdown",
      "metadata": {
        "id": "XwXYPkaY9KDJ"
      },
      "source": [
        "## Basic list manipulation\n",
        "Basic list manipulation, using concatenation (+), slicing (:)\n",
        "\n"
      ]
    },
    {
      "cell_type": "code",
      "metadata": {
        "id": "lPVhxwrv9KDK",
        "colab": {
          "base_uri": "https://localhost:8080/"
        },
        "outputId": "66f1f458-9699-4504-f004-d3197ac13d60"
      },
      "source": [
        "list1 = [12, 3.4, \"hello\"]\n",
        "print(\"Length of the list \", len(list1))\n",
        "\n",
        "list1 = list1 + [34]\n",
        "print(\"New list: \", list1)\n",
        "#the last element is not included\n",
        "\n",
        "newList = [list1[0]] + [340] + list1[1:]\n",
        "\n",
        "print(\"The NEW LIST IS: \",  newList)\n",
        "\n",
        "slicedList1 = list1[:2]\n",
        "slicedList2 = list1[:-1]\n",
        "print(\"Sliced list \", slicedList1)\n",
        "print(\"Sliced list2 \", slicedList2)\n",
        "\n",
        "#remove element, only removes the first instance\n",
        "#WARNING! COPY BY REFERENCE!!\n",
        "listElementRemoved1 = list1\n",
        "listElementRemoved1.remove(34)\n",
        "\n",
        "\n",
        "print(\"Element with element removed \", list1)\n",
        "#other way of deleting an element, by position\n",
        "del listElementRemoved1[0]\n",
        "print(\"First element removed \", list1)\n",
        "\n"
      ],
      "execution_count": 6,
      "outputs": [
        {
          "output_type": "stream",
          "name": "stdout",
          "text": [
            "Length of the list  3\n",
            "New list:  [12, 3.4, 'hello', 34]\n",
            "The NEW LIST IS:  [12, 340, 3.4, 'hello', 34]\n",
            "Sliced list  [12, 3.4]\n",
            "Sliced list2  [12, 3.4, 'hello']\n",
            "Element with element removed  [12, 3.4, 'hello']\n",
            "First element removed  [3.4, 'hello']\n"
          ]
        }
      ]
    },
    {
      "cell_type": "markdown",
      "metadata": {
        "id": "omL9oFQL9KDM"
      },
      "source": [
        "# Function definition and parameters by reference and copy\n",
        "Sequences are passed by reference, other native types are passed by copy"
      ]
    },
    {
      "cell_type": "code",
      "metadata": {
        "id": "02CDgumZ9KDM",
        "outputId": "dc155ee5-0acc-4012-d9eb-83315e63fce5"
      },
      "source": [
        "\n",
        "\n",
        "def funcionDemo(num = 0, list1 = []):\n",
        "    \"\"\"\n",
        "     PEP recommends to comment functions\n",
        "     num, shoud be an integer number, 0 by default\n",
        "     list1, a list of elements, empty list by default\n",
        "     does not return anything, by default a None is returned\n",
        "    \"\"\"\n",
        "    #if decision block, header ends with :\n",
        "    if(num == 1):\n",
        "        num += 1 \n",
        "    # Modification of a bucket within list1 \n",
        "    list1[0] = 20 \n",
        "    \n",
        "    \n",
        "list1 = [1, 2, 3] \n",
        "num = 1 \n",
        "funcionDemo(num, list1)\n",
        "print(\"Number \", num)\n",
        "print(\"List \", list1)"
      ],
      "execution_count": null,
      "outputs": [
        {
          "output_type": "stream",
          "text": [
            "Number  1\n",
            "List  [20, 2, 3]\n"
          ],
          "name": "stdout"
        }
      ]
    },
    {
      "cell_type": "markdown",
      "metadata": {
        "id": "9Sjs6WNJ9KDO"
      },
      "source": [
        "A recursive function to eliminate values higher than a threshold\n"
      ]
    },
    {
      "cell_type": "code",
      "metadata": {
        "id": "HJpY9ARk9KDP",
        "outputId": "9b09cc2f-2709-4fc7-ef6f-4abc8e879492"
      },
      "source": [
        "def removeValuesHigher(list1, threshold = 5, index = 0):\n",
        "    \"\"\"\n",
        "    Function to remove a value higher than the threshold\n",
        "    \"\"\"\n",
        "    if(index >= len(list1)):\n",
        "        return list1\n",
        "    else:\n",
        "        if(list1[index] > threshold):\n",
        "            #remove the value\n",
        "            del list1[index]\n",
        "        return removeValuesHigher(list1, threshold, index + 1)\n",
        "\n",
        "#testing...        \n",
        "list1 = [ 34, 1, 2, 3, 56, 1]        \n",
        "newList = removeValuesHigher(list1)\n",
        "print(\"New list \", newList)\n",
        "    "
      ],
      "execution_count": null,
      "outputs": [
        {
          "output_type": "stream",
          "text": [
            "New list  [1, 2, 3, 1]\n"
          ],
          "name": "stdout"
        }
      ]
    },
    {
      "cell_type": "markdown",
      "metadata": {
        "id": "uFScxgcp9KDR"
      },
      "source": [
        "## Iterative programming\n",
        "\n",
        "The repetition structures available in Python are while and for"
      ]
    },
    {
      "cell_type": "code",
      "metadata": {
        "id": "EMVzDQbf9KDR",
        "colab": {
          "base_uri": "https://localhost:8080/"
        },
        "outputId": "493d99eb-bba3-48b4-dd46-506985008ba7"
      },
      "source": [
        "def removeValuesHigher1(list1, threshold = 5):\n",
        "    \"\"\"\n",
        "    Use the pythonic way of iterating  through a list\n",
        "    list1, list to modify\n",
        "    threshold, with a default value of 5\n",
        "    \"\"\"\n",
        "    for element in list1:\n",
        "        if(element > threshold):\n",
        "            list1.remove(element)\n",
        "    return list1\n",
        "\n",
        "\n",
        "def removeValuesHigher2(list1, threshold = 5):\n",
        "    \"\"\"\n",
        "    Iterate through the list, old school\n",
        "    \"\"\"\n",
        "    #EXPLICITILY CREATE THE COPY OF THE LIST\n",
        "    list1Copy = list1.copy()\n",
        "    \"\"\"\n",
        "    Use the pythonic way of iterating  through a list\n",
        "    list1, list to modify\n",
        "    threshold, with a default value of 5\n",
        "    \"\"\"\n",
        "  \n",
        "    for index in range(0, len(list1)):\n",
        "        if(list1[index] > threshold):\n",
        "            list1Copy.remove(list1[index])\n",
        "    return list1Copy\n",
        "\n",
        "\n",
        "\n",
        "def removeValuesHigher3(list1, threshold = 5):\n",
        "    \"\"\"\n",
        "    Iterate through the list, VERY old school\n",
        "    \"\"\"\n",
        "    #EXPLICITILY CREATE THE COPY OF THE LIST\n",
        "    list1Copy = list1.copy()\n",
        "\n",
        "    index = 0\n",
        "    while(index < len(list1)):\n",
        "        if(list1[index] > threshold):\n",
        "            list1Copy.remove(list1[index])\n",
        "        index += 1\n",
        "    return list1Copy\n",
        "\n",
        "\n",
        "#testing...        \n",
        "list1 = [ 34, 1, 2, 3, 56, 1]  \n",
        "     \n",
        "newList3 = removeValuesHigher3(list1)\n",
        "print(\"New list 3\", newList3)\n",
        "print('list1', list1)\n",
        "print('########################')\n",
        "newList2 = removeValuesHigher2(list1)\n",
        "print('newList2', newList2)\n",
        "print('list1', list1)\n",
        "print('########################')\n",
        "newList1 = removeValuesHigher1(list1)\n",
        "print('newList1', newList1)\n",
        "print('list1', list1)"
      ],
      "execution_count": 21,
      "outputs": [
        {
          "output_type": "stream",
          "name": "stdout",
          "text": [
            "New list 3 [1, 2, 3, 1]\n",
            "list1 [34, 1, 2, 3, 56, 1]\n",
            "########################\n",
            "newList2 [1, 2, 3, 1]\n",
            "list1 [34, 1, 2, 3, 56, 1]\n",
            "########################\n",
            "newList1 [1, 2, 3, 1]\n",
            "list1 [1, 2, 3, 1]\n"
          ]
        }
      ]
    },
    {
      "cell_type": "markdown",
      "metadata": {
        "id": "xh2sweCc9KDT"
      },
      "source": [
        "# Basic string manipulation\n",
        "\n",
        "1. Strings are sequences, thus sequence operators are also available\n",
        "2. Operators to manipulate case, find and verify the existence of types of characters are available\n",
        "\n",
        "You can see more string manipulation methods  here https://realpython.com/python-strings/ \n"
      ]
    },
    {
      "cell_type": "code",
      "metadata": {
        "id": "dcBOeNHj9KDT",
        "colab": {
          "base_uri": "https://localhost:8080/"
        },
        "outputId": "80fb3df6-0a78-46d8-f7f3-5e6689914599"
      },
      "source": [
        "string  = 'HELLO. How are you?'\n",
        "stringLower = string.lower()\n",
        "print(\"To lower case: \", stringLower)\n",
        "\n",
        "\n",
        "#returns a copy of s with the first character converted to uppercase and all\n",
        "stringCapital = string.capitalize()\n",
        "print(\"String capitalized: \", stringCapital)\n",
        "\n",
        "# to upper case\n",
        "print(\"String to upper case \", string.upper())\n",
        "\n",
        "#count occurrences of substring\n",
        "print(\"Number of occurrences \", string.count('a'))\n",
        "\n",
        "#s.find(<sub>) returns the lowest index in s where substring <sub> is found:\n",
        "print(\"Is a substring there, and where? \", string.find(\"are\"))\n",
        "\n",
        "#Determines whether the target string consists of alphanumeric characters.\n",
        "#similar to s.isalpha() and s.isdigit()\n",
        "print(\"Is alphanumeric? \", string.isalnum())\n",
        "\n",
        "#Replace substring with another one\n",
        "print(\"Replacing a substring  with another one: \", string.replace(\"HELLO\", \"Hola\"))\n",
        "\n",
        "\n",
        "\n"
      ],
      "execution_count": 29,
      "outputs": [
        {
          "output_type": "stream",
          "name": "stdout",
          "text": [
            "To lower case:  hello. how are you?\n",
            "String capitalized:  Hello. how are you?\n",
            "String to upper case  HELLO. HOW ARE YOU?\n",
            "Number of occurrences  1\n",
            "Is a substring there, and where?  11\n",
            "Is alphanumeric?  False\n",
            "Replacing a substring  with another one:  Hola. How are you?\n"
          ]
        }
      ]
    },
    {
      "cell_type": "markdown",
      "metadata": {
        "id": "CYZdSGq19KDV"
      },
      "source": [
        "# Natural Language Toolkit (NLTK)\n",
        "The natural language toolkit allows a more advanced string manipulation\n",
        "First we need to download the NLTK package\n",
        "A set of books are available \n",
        "text1: Moby Dick by Herman Melville 1851\n",
        "text2: Sense and Sensibility by Jane Austen 1811\n",
        "text3: The Book of Genesis\n",
        "text4: Inaugural Address Corpus\n",
        "\n",
        "You can see more here: http://www.nltk.org/book/ch01.html"
      ]
    },
    {
      "cell_type": "code",
      "metadata": {
        "id": "MVKeVT8E9KDW",
        "colab": {
          "base_uri": "https://localhost:8080/"
        },
        "outputId": "1135ebd6-0a54-4ce6-bb03-c53bf107d3ce"
      },
      "source": [
        "import nltk\n",
        "nltk.download()"
      ],
      "execution_count": null,
      "outputs": [
        {
          "output_type": "stream",
          "name": "stdout",
          "text": [
            "NLTK Downloader\n",
            "---------------------------------------------------------------------------\n",
            "    d) Download   l) List    u) Update   c) Config   h) Help   q) Quit\n",
            "---------------------------------------------------------------------------\n"
          ]
        }
      ]
    },
    {
      "cell_type": "markdown",
      "metadata": {
        "id": "wRRqbpj29KDc"
      },
      "source": [
        " Some basic functionalities are tokenize, look for ocurrences, synonims, etc"
      ]
    },
    {
      "cell_type": "code",
      "metadata": {
        "id": "7YKIRs-o9KDd"
      },
      "source": [
        "text1.concordance(\"monstrous\")#A concordance view shows us every occurrence of a given word,\n",
        "#common_contexts allows us to examine just the contexts that are shared by two or more words, such as monstrous and very\n",
        "text2.common_contexts([\"monstrous\", \"very\"])"
      ],
      "execution_count": null,
      "outputs": []
    },
    {
      "cell_type": "markdown",
      "metadata": {
        "id": "Xgjpc6WLQFUb"
      },
      "source": [
        "# Exercises\n",
        "\n",
        "## Part 1\n",
        "\n",
        "\n",
        "* Without using tuples or lists, create a function *containsZero*, which returns a  True value, if a number of any number of digits inserted by the user contains at least one digit  0.\n",
        "\n",
        "* Without using tuples or lists, create a function *countOnes*, which returns an integer with the number of times that digit 1 appears in a number of any number of digits inserted by the user.\n",
        "\n",
        "* Without using tuples or lists, implement a function which converts a number of base 2 to a number of base 10, and returns it. The data type of the variable with the result must be integer.\n",
        "\n",
        "* Without using tuples or lists, implement a program that converts a  number in base 8 to a number in base 10. The data type of the variable with the result must be integer.\n",
        "\n",
        "\n",
        "\n",
        "\n"
      ]
    },
    {
      "cell_type": "markdown",
      "metadata": {
        "id": "OA1zwbL-dYLa"
      },
      "source": [
        "## Part 2\n",
        "\n",
        "\n",
        "*   Write a function GetLastPar (list) that receives a non-null list and returns the last even number of the given list. Assume the list is composed of numbers. **Recursively, using the slice operator**\n",
        "*   Build a function called divideList (element, list). This function takes a list and the part in sub-lists using as a cut-off point the element received as an argument. **Recursively, using the slice operator**. The following shows examples of how the function should behave: \n",
        "\n",
        "\n",
        "split('x', [1, 4, 7, 'x', 1, 2, 3])\n",
        "\n",
        "output [[1 4 7) (1 2 3))\n",
        "\n",
        "* Create a function *extractEvenNumbers(list1)* which creates a new list with all the even numbers in *list1* and returns it. **Recursively, using the slice operator**. \n",
        "\n",
        "*  The Boolean function *areAllEven(list1)* should return true (True) if all items in the list are even numbers and must return false (False) if any item in the list is not an even number **Recursively, using the slice operator**.\n",
        "\n"
      ]
    },
    {
      "cell_type": "code",
      "metadata": {
        "id": "lMnczsI99KDf",
        "colab": {
          "base_uri": "https://localhost:8080/",
          "height": 35
        },
        "outputId": "f07b4f28-af6e-4c4a-8431-0facf6de5cd6"
      },
      "source": [
        "\n",
        "def containsZero(number):\n",
        "  firstDigit = number % 10\n",
        "  numberWithoutFirstDigit = number // 10\n",
        "  print(firstDigit)\n",
        "  \n",
        "\n",
        "number = 153\n",
        "containsZero(number)\n"
      ],
      "execution_count": null,
      "outputs": [
        {
          "output_type": "stream",
          "text": [
            "3\n"
          ],
          "name": "stdout"
        }
      ]
    }
  ]
}