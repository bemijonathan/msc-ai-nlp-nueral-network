{
 "cells": [
  {
   "cell_type": "code",
   "id": "initial_id",
   "metadata": {
    "collapsed": true,
    "ExecuteTime": {
     "end_time": "2024-10-03T12:48:10.046249Z",
     "start_time": "2024-10-03T12:48:09.364361Z"
    }
   },
   "source": "pip install nltk",
   "outputs": [
    {
     "name": "stdout",
     "output_type": "stream",
     "text": [
      "Defaulting to user installation because normal site-packages is not writeable\r\n",
      "Requirement already satisfied: nltk in /Users/joe_codes/Library/Python/3.9/lib/python/site-packages (3.9.1)\r\n",
      "Requirement already satisfied: click in /Users/joe_codes/Library/Python/3.9/lib/python/site-packages (from nltk) (8.1.7)\r\n",
      "Requirement already satisfied: tqdm in /Users/joe_codes/Library/Python/3.9/lib/python/site-packages (from nltk) (4.66.5)\r\n",
      "Requirement already satisfied: regex>=2021.8.3 in /Users/joe_codes/Library/Python/3.9/lib/python/site-packages (from nltk) (2024.9.11)\r\n",
      "Requirement already satisfied: joblib in /Users/joe_codes/Library/Python/3.9/lib/python/site-packages (from nltk) (1.4.2)\r\n",
      "\u001B[33mWARNING: You are using pip version 21.2.4; however, version 24.2 is available.\r\n",
      "You should consider upgrading via the '/Applications/Xcode.app/Contents/Developer/usr/bin/python3 -m pip install --upgrade pip' command.\u001B[0m\r\n",
      "Note: you may need to restart the kernel to use updated packages.\n"
     ]
    }
   ],
   "execution_count": 2
  },
  {
   "metadata": {
    "ExecuteTime": {
     "end_time": "2024-10-03T12:48:43.853582Z",
     "start_time": "2024-10-03T12:48:43.108557Z"
    }
   },
   "cell_type": "code",
   "source": "import nltk",
   "id": "3dbe707faab4f9c5",
   "outputs": [],
   "execution_count": 3
  },
  {
   "metadata": {
    "ExecuteTime": {
     "end_time": "2024-10-03T13:43:12.145204Z",
     "start_time": "2024-10-03T13:43:11.407033Z"
    }
   },
   "cell_type": "code",
   "source": "nltk.download()",
   "id": "944c2c7d225cfe63",
   "outputs": [
    {
     "name": "stdout",
     "output_type": "stream",
     "text": [
      "showing info https://raw.githubusercontent.com/nltk/nltk_data/gh-pages/index.xml\n"
     ]
    },
    {
     "data": {
      "text/plain": [
       "True"
      ]
     },
     "execution_count": 7,
     "metadata": {},
     "output_type": "execute_result"
    }
   ],
   "execution_count": 7
  },
  {
   "metadata": {},
   "cell_type": "code",
   "outputs": [],
   "execution_count": null,
   "source": "",
   "id": "62c23e3f71c21e07"
  }
 ],
 "metadata": {
  "kernelspec": {
   "display_name": "Python 3",
   "language": "python",
   "name": "python3"
  },
  "language_info": {
   "codemirror_mode": {
    "name": "ipython",
    "version": 2
   },
   "file_extension": ".py",
   "mimetype": "text/x-python",
   "name": "python",
   "nbconvert_exporter": "python",
   "pygments_lexer": "ipython2",
   "version": "2.7.6"
  }
 },
 "nbformat": 4,
 "nbformat_minor": 5
}
